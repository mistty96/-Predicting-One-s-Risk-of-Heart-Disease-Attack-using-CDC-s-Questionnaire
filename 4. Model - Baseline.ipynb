{
 "cells": [
  {
   "cell_type": "code",
   "execution_count": 1,
   "id": "7db88b9d",
   "metadata": {},
   "outputs": [],
   "source": [
    "import pandas as pd \n",
    "\n",
    "\n",
    "from sklearn.neighbors import KNeighborsClassifier\n",
    "from sklearn.linear_model import LogisticRegression\n",
    "from sklearn.tree import DecisionTreeClassifier\n",
    "from sklearn.ensemble import RandomForestClassifier\n",
    "\n",
    "import xgboost as xgb\n",
    "from xgboost import XGBClassifier\n",
    "\n",
    "\n",
    "from sklearn.model_selection import train_test_split\n",
    "from sklearn.model_selection import GridSearchCV\n",
    "\n",
    "from sklearn.metrics import precision_score, recall_score\n",
    "from sklearn.metrics import precision_recall_curve, fbeta_score, f1_score \n",
    "from sklearn.metrics import roc_auc_score, roc_curve, auc\n",
    "from sklearn.metrics import confusion_matrix, classification_report\n",
    "\n",
    "from sklearn.preprocessing import StandardScaler\n",
    "\n",
    "from sklearn.metrics import log_loss\n",
    "from sklearn import metrics\n",
    "\n",
    "import warnings\n",
    "warnings.simplefilter(action='ignore')\n",
    "\n",
    "\n",
    "import matplotlib.pyplot as plt\n",
    "import seaborn as sns"
   ]
  },
  {
   "cell_type": "code",
   "execution_count": 2,
   "id": "59459b5f",
   "metadata": {},
   "outputs": [
    {
     "data": {
      "text/html": [
       "<div>\n",
       "<style scoped>\n",
       "    .dataframe tbody tr th:only-of-type {\n",
       "        vertical-align: middle;\n",
       "    }\n",
       "\n",
       "    .dataframe tbody tr th {\n",
       "        vertical-align: top;\n",
       "    }\n",
       "\n",
       "    .dataframe thead th {\n",
       "        text-align: right;\n",
       "    }\n",
       "</style>\n",
       "<table border=\"1\" class=\"dataframe\">\n",
       "  <thead>\n",
       "    <tr style=\"text-align: right;\">\n",
       "      <th></th>\n",
       "      <th>heart_attack_disease</th>\n",
       "      <th>sex</th>\n",
       "      <th>age</th>\n",
       "      <th>race_ethn</th>\n",
       "      <th>bmi</th>\n",
       "      <th>overweight</th>\n",
       "      <th>diabetes</th>\n",
       "      <th>diagnose_strk</th>\n",
       "      <th>smoker</th>\n",
       "      <th>high_bp</th>\n",
       "      <th>high_chol</th>\n",
       "      <th>heavy_drinker</th>\n",
       "      <th>exercise</th>\n",
       "      <th>fruit</th>\n",
       "      <th>vege</th>\n",
       "    </tr>\n",
       "  </thead>\n",
       "  <tbody>\n",
       "    <tr>\n",
       "      <th>0</th>\n",
       "      <td>0.0</td>\n",
       "      <td>1.0</td>\n",
       "      <td>70.0</td>\n",
       "      <td>0.0</td>\n",
       "      <td>15.0</td>\n",
       "      <td>0.0</td>\n",
       "      <td>0.0</td>\n",
       "      <td>0.0</td>\n",
       "      <td>1.0</td>\n",
       "      <td>1.0</td>\n",
       "      <td>1.0</td>\n",
       "      <td>0.0</td>\n",
       "      <td>0.0</td>\n",
       "      <td>1.0</td>\n",
       "      <td>1.0</td>\n",
       "    </tr>\n",
       "    <tr>\n",
       "      <th>1</th>\n",
       "      <td>1.0</td>\n",
       "      <td>1.0</td>\n",
       "      <td>67.0</td>\n",
       "      <td>1.0</td>\n",
       "      <td>28.0</td>\n",
       "      <td>1.0</td>\n",
       "      <td>1.0</td>\n",
       "      <td>0.0</td>\n",
       "      <td>0.0</td>\n",
       "      <td>0.0</td>\n",
       "      <td>1.0</td>\n",
       "      <td>0.0</td>\n",
       "      <td>1.0</td>\n",
       "      <td>1.0</td>\n",
       "      <td>1.0</td>\n",
       "    </tr>\n",
       "    <tr>\n",
       "      <th>2</th>\n",
       "      <td>1.0</td>\n",
       "      <td>1.0</td>\n",
       "      <td>72.0</td>\n",
       "      <td>1.0</td>\n",
       "      <td>28.0</td>\n",
       "      <td>1.0</td>\n",
       "      <td>1.0</td>\n",
       "      <td>0.0</td>\n",
       "      <td>0.0</td>\n",
       "      <td>0.0</td>\n",
       "      <td>0.0</td>\n",
       "      <td>0.0</td>\n",
       "      <td>0.0</td>\n",
       "      <td>1.0</td>\n",
       "      <td>0.0</td>\n",
       "    </tr>\n",
       "    <tr>\n",
       "      <th>3</th>\n",
       "      <td>0.0</td>\n",
       "      <td>1.0</td>\n",
       "      <td>62.0</td>\n",
       "      <td>0.0</td>\n",
       "      <td>33.0</td>\n",
       "      <td>1.0</td>\n",
       "      <td>1.0</td>\n",
       "      <td>0.0</td>\n",
       "      <td>0.0</td>\n",
       "      <td>0.0</td>\n",
       "      <td>1.0</td>\n",
       "      <td>0.0</td>\n",
       "      <td>1.0</td>\n",
       "      <td>1.0</td>\n",
       "      <td>1.0</td>\n",
       "    </tr>\n",
       "    <tr>\n",
       "      <th>4</th>\n",
       "      <td>1.0</td>\n",
       "      <td>0.0</td>\n",
       "      <td>76.0</td>\n",
       "      <td>5.0</td>\n",
       "      <td>29.0</td>\n",
       "      <td>1.0</td>\n",
       "      <td>1.0</td>\n",
       "      <td>1.0</td>\n",
       "      <td>0.0</td>\n",
       "      <td>1.0</td>\n",
       "      <td>1.0</td>\n",
       "      <td>0.0</td>\n",
       "      <td>1.0</td>\n",
       "      <td>1.0</td>\n",
       "      <td>1.0</td>\n",
       "    </tr>\n",
       "    <tr>\n",
       "      <th>...</th>\n",
       "      <td>...</td>\n",
       "      <td>...</td>\n",
       "      <td>...</td>\n",
       "      <td>...</td>\n",
       "      <td>...</td>\n",
       "      <td>...</td>\n",
       "      <td>...</td>\n",
       "      <td>...</td>\n",
       "      <td>...</td>\n",
       "      <td>...</td>\n",
       "      <td>...</td>\n",
       "      <td>...</td>\n",
       "      <td>...</td>\n",
       "      <td>...</td>\n",
       "      <td>...</td>\n",
       "    </tr>\n",
       "    <tr>\n",
       "      <th>381142</th>\n",
       "      <td>0.0</td>\n",
       "      <td>1.0</td>\n",
       "      <td>30.0</td>\n",
       "      <td>1.0</td>\n",
       "      <td>25.0</td>\n",
       "      <td>0.0</td>\n",
       "      <td>1.0</td>\n",
       "      <td>0.0</td>\n",
       "      <td>1.0</td>\n",
       "      <td>0.0</td>\n",
       "      <td>0.0</td>\n",
       "      <td>0.0</td>\n",
       "      <td>1.0</td>\n",
       "      <td>1.0</td>\n",
       "      <td>1.0</td>\n",
       "    </tr>\n",
       "    <tr>\n",
       "      <th>381143</th>\n",
       "      <td>0.0</td>\n",
       "      <td>0.0</td>\n",
       "      <td>80.0</td>\n",
       "      <td>5.0</td>\n",
       "      <td>28.0</td>\n",
       "      <td>1.0</td>\n",
       "      <td>1.0</td>\n",
       "      <td>0.0</td>\n",
       "      <td>0.0</td>\n",
       "      <td>0.0</td>\n",
       "      <td>0.0</td>\n",
       "      <td>0.0</td>\n",
       "      <td>0.0</td>\n",
       "      <td>1.0</td>\n",
       "      <td>1.0</td>\n",
       "    </tr>\n",
       "    <tr>\n",
       "      <th>381144</th>\n",
       "      <td>0.0</td>\n",
       "      <td>0.0</td>\n",
       "      <td>54.0</td>\n",
       "      <td>1.0</td>\n",
       "      <td>31.0</td>\n",
       "      <td>1.0</td>\n",
       "      <td>0.0</td>\n",
       "      <td>0.0</td>\n",
       "      <td>0.0</td>\n",
       "      <td>1.0</td>\n",
       "      <td>1.0</td>\n",
       "      <td>0.0</td>\n",
       "      <td>1.0</td>\n",
       "      <td>1.0</td>\n",
       "      <td>1.0</td>\n",
       "    </tr>\n",
       "    <tr>\n",
       "      <th>381145</th>\n",
       "      <td>0.0</td>\n",
       "      <td>0.0</td>\n",
       "      <td>67.0</td>\n",
       "      <td>1.0</td>\n",
       "      <td>24.0</td>\n",
       "      <td>0.0</td>\n",
       "      <td>0.0</td>\n",
       "      <td>0.0</td>\n",
       "      <td>0.0</td>\n",
       "      <td>0.0</td>\n",
       "      <td>0.0</td>\n",
       "      <td>0.0</td>\n",
       "      <td>1.0</td>\n",
       "      <td>1.0</td>\n",
       "      <td>1.0</td>\n",
       "    </tr>\n",
       "    <tr>\n",
       "      <th>381146</th>\n",
       "      <td>0.0</td>\n",
       "      <td>1.0</td>\n",
       "      <td>45.0</td>\n",
       "      <td>1.0</td>\n",
       "      <td>32.0</td>\n",
       "      <td>1.0</td>\n",
       "      <td>0.0</td>\n",
       "      <td>0.0</td>\n",
       "      <td>0.0</td>\n",
       "      <td>1.0</td>\n",
       "      <td>1.0</td>\n",
       "      <td>0.0</td>\n",
       "      <td>1.0</td>\n",
       "      <td>0.0</td>\n",
       "      <td>0.0</td>\n",
       "    </tr>\n",
       "  </tbody>\n",
       "</table>\n",
       "<p>381147 rows × 15 columns</p>\n",
       "</div>"
      ],
      "text/plain": [
       "        heart_attack_disease  sex   age  race_ethn   bmi  overweight  \\\n",
       "0                        0.0  1.0  70.0        0.0  15.0         0.0   \n",
       "1                        1.0  1.0  67.0        1.0  28.0         1.0   \n",
       "2                        1.0  1.0  72.0        1.0  28.0         1.0   \n",
       "3                        0.0  1.0  62.0        0.0  33.0         1.0   \n",
       "4                        1.0  0.0  76.0        5.0  29.0         1.0   \n",
       "...                      ...  ...   ...        ...   ...         ...   \n",
       "381142                   0.0  1.0  30.0        1.0  25.0         0.0   \n",
       "381143                   0.0  0.0  80.0        5.0  28.0         1.0   \n",
       "381144                   0.0  0.0  54.0        1.0  31.0         1.0   \n",
       "381145                   0.0  0.0  67.0        1.0  24.0         0.0   \n",
       "381146                   0.0  1.0  45.0        1.0  32.0         1.0   \n",
       "\n",
       "        diabetes  diagnose_strk  smoker  high_bp  high_chol  heavy_drinker  \\\n",
       "0            0.0            0.0     1.0      1.0        1.0            0.0   \n",
       "1            1.0            0.0     0.0      0.0        1.0            0.0   \n",
       "2            1.0            0.0     0.0      0.0        0.0            0.0   \n",
       "3            1.0            0.0     0.0      0.0        1.0            0.0   \n",
       "4            1.0            1.0     0.0      1.0        1.0            0.0   \n",
       "...          ...            ...     ...      ...        ...            ...   \n",
       "381142       1.0            0.0     1.0      0.0        0.0            0.0   \n",
       "381143       1.0            0.0     0.0      0.0        0.0            0.0   \n",
       "381144       0.0            0.0     0.0      1.0        1.0            0.0   \n",
       "381145       0.0            0.0     0.0      0.0        0.0            0.0   \n",
       "381146       0.0            0.0     0.0      1.0        1.0            0.0   \n",
       "\n",
       "        exercise  fruit  vege  \n",
       "0            0.0    1.0   1.0  \n",
       "1            1.0    1.0   1.0  \n",
       "2            0.0    1.0   0.0  \n",
       "3            1.0    1.0   1.0  \n",
       "4            1.0    1.0   1.0  \n",
       "...          ...    ...   ...  \n",
       "381142       1.0    1.0   1.0  \n",
       "381143       0.0    1.0   1.0  \n",
       "381144       1.0    1.0   1.0  \n",
       "381145       1.0    1.0   1.0  \n",
       "381146       1.0    0.0   0.0  \n",
       "\n",
       "[381147 rows x 15 columns]"
      ]
     },
     "execution_count": 2,
     "metadata": {},
     "output_type": "execute_result"
    }
   ],
   "source": [
    "df= pd.read_csv('cleaned_dataset.csv')\n",
    "df"
   ]
  },
  {
   "cell_type": "code",
   "execution_count": 3,
   "id": "7b996498",
   "metadata": {},
   "outputs": [
    {
     "name": "stdout",
     "output_type": "stream",
     "text": [
      "<class 'pandas.core.frame.DataFrame'>\n",
      "RangeIndex: 381147 entries, 0 to 381146\n",
      "Data columns (total 15 columns):\n",
      " #   Column                Non-Null Count   Dtype  \n",
      "---  ------                --------------   -----  \n",
      " 0   heart_attack_disease  381147 non-null  float64\n",
      " 1   sex                   381147 non-null  float64\n",
      " 2   age                   381147 non-null  float64\n",
      " 3   race_ethn             381147 non-null  float64\n",
      " 4   bmi                   381147 non-null  float64\n",
      " 5   overweight            381147 non-null  float64\n",
      " 6   diabetes              381147 non-null  float64\n",
      " 7   diagnose_strk         381147 non-null  float64\n",
      " 8   smoker                381147 non-null  float64\n",
      " 9   high_bp               381147 non-null  float64\n",
      " 10  high_chol             381147 non-null  float64\n",
      " 11  heavy_drinker         381147 non-null  float64\n",
      " 12  exercise              381147 non-null  float64\n",
      " 13  fruit                 381147 non-null  float64\n",
      " 14  vege                  381147 non-null  float64\n",
      "dtypes: float64(15)\n",
      "memory usage: 43.6 MB\n"
     ]
    }
   ],
   "source": [
    "df.info()"
   ]
  },
  {
   "cell_type": "code",
   "execution_count": 4,
   "id": "a57bd03b",
   "metadata": {},
   "outputs": [
    {
     "data": {
      "text/plain": [
       "(381147, 15)"
      ]
     },
     "execution_count": 4,
     "metadata": {},
     "output_type": "execute_result"
    }
   ],
   "source": [
    "df.shape"
   ]
  },
  {
   "cell_type": "code",
   "execution_count": 5,
   "id": "ed345b83",
   "metadata": {},
   "outputs": [],
   "source": [
    "X = df.drop(['heart_attack_disease'], axis = 1)\n",
    "y = df['heart_attack_disease']"
   ]
  },
  {
   "cell_type": "code",
   "execution_count": 6,
   "id": "aeacae99",
   "metadata": {},
   "outputs": [
    {
     "name": "stdout",
     "output_type": "stream",
     "text": [
      "(381147, 14) (381147,)\n"
     ]
    }
   ],
   "source": [
    "print(X.shape, y.shape)"
   ]
  },
  {
   "cell_type": "code",
   "execution_count": 7,
   "id": "ff3d2f26",
   "metadata": {},
   "outputs": [],
   "source": [
    "X_train, X_test, y_train, y_test = train_test_split(X,y, \n",
    "                                                    test_size = 0.3, \n",
    "                                                    random_state=42, \n",
    "                                                   stratify = y)\n",
    "scaler = StandardScaler()\n",
    "X_train_s = scaler.fit_transform(X_train)\n",
    "X_test_s = scaler.transform(X_test)"
   ]
  },
  {
   "cell_type": "code",
   "execution_count": 8,
   "id": "e4175721",
   "metadata": {},
   "outputs": [
    {
     "name": "stdout",
     "output_type": "stream",
     "text": [
      "(266802, 14) (114345, 14)\n"
     ]
    }
   ],
   "source": [
    "print(X_train.shape, X_test.shape)"
   ]
  },
  {
   "cell_type": "code",
   "execution_count": 9,
   "id": "d258a618",
   "metadata": {},
   "outputs": [
    {
     "data": {
      "text/html": [
       "<div>\n",
       "<style scoped>\n",
       "    .dataframe tbody tr th:only-of-type {\n",
       "        vertical-align: middle;\n",
       "    }\n",
       "\n",
       "    .dataframe tbody tr th {\n",
       "        vertical-align: top;\n",
       "    }\n",
       "\n",
       "    .dataframe thead th {\n",
       "        text-align: right;\n",
       "    }\n",
       "</style>\n",
       "<table border=\"1\" class=\"dataframe\">\n",
       "  <thead>\n",
       "    <tr style=\"text-align: right;\">\n",
       "      <th></th>\n",
       "      <th>sex</th>\n",
       "      <th>age</th>\n",
       "      <th>race_ethn</th>\n",
       "      <th>bmi</th>\n",
       "      <th>overweight</th>\n",
       "      <th>diabetes</th>\n",
       "      <th>diagnose_strk</th>\n",
       "      <th>smoker</th>\n",
       "      <th>high_bp</th>\n",
       "      <th>high_chol</th>\n",
       "      <th>heavy_drinker</th>\n",
       "      <th>exercise</th>\n",
       "      <th>fruit</th>\n",
       "      <th>vege</th>\n",
       "      <th>heart_attack_disease</th>\n",
       "    </tr>\n",
       "  </thead>\n",
       "  <tbody>\n",
       "    <tr>\n",
       "      <th>310885</th>\n",
       "      <td>0.0</td>\n",
       "      <td>48.0</td>\n",
       "      <td>0.0</td>\n",
       "      <td>26.0</td>\n",
       "      <td>1.0</td>\n",
       "      <td>0.0</td>\n",
       "      <td>0.0</td>\n",
       "      <td>0.0</td>\n",
       "      <td>1.0</td>\n",
       "      <td>0.0</td>\n",
       "      <td>0.0</td>\n",
       "      <td>1.0</td>\n",
       "      <td>0.0</td>\n",
       "      <td>0.0</td>\n",
       "      <td>0.0</td>\n",
       "    </tr>\n",
       "    <tr>\n",
       "      <th>101653</th>\n",
       "      <td>0.0</td>\n",
       "      <td>38.0</td>\n",
       "      <td>0.0</td>\n",
       "      <td>22.0</td>\n",
       "      <td>0.0</td>\n",
       "      <td>0.0</td>\n",
       "      <td>0.0</td>\n",
       "      <td>0.0</td>\n",
       "      <td>1.0</td>\n",
       "      <td>0.0</td>\n",
       "      <td>0.0</td>\n",
       "      <td>0.0</td>\n",
       "      <td>0.0</td>\n",
       "      <td>0.0</td>\n",
       "      <td>0.0</td>\n",
       "    </tr>\n",
       "    <tr>\n",
       "      <th>237249</th>\n",
       "      <td>1.0</td>\n",
       "      <td>62.0</td>\n",
       "      <td>0.0</td>\n",
       "      <td>42.0</td>\n",
       "      <td>1.0</td>\n",
       "      <td>0.0</td>\n",
       "      <td>0.0</td>\n",
       "      <td>0.0</td>\n",
       "      <td>0.0</td>\n",
       "      <td>0.0</td>\n",
       "      <td>0.0</td>\n",
       "      <td>0.0</td>\n",
       "      <td>0.0</td>\n",
       "      <td>1.0</td>\n",
       "      <td>0.0</td>\n",
       "    </tr>\n",
       "    <tr>\n",
       "      <th>363045</th>\n",
       "      <td>1.0</td>\n",
       "      <td>64.0</td>\n",
       "      <td>0.0</td>\n",
       "      <td>22.0</td>\n",
       "      <td>0.0</td>\n",
       "      <td>0.0</td>\n",
       "      <td>0.0</td>\n",
       "      <td>0.0</td>\n",
       "      <td>1.0</td>\n",
       "      <td>0.0</td>\n",
       "      <td>0.0</td>\n",
       "      <td>1.0</td>\n",
       "      <td>0.0</td>\n",
       "      <td>1.0</td>\n",
       "      <td>0.0</td>\n",
       "    </tr>\n",
       "    <tr>\n",
       "      <th>228191</th>\n",
       "      <td>1.0</td>\n",
       "      <td>55.0</td>\n",
       "      <td>4.0</td>\n",
       "      <td>30.0</td>\n",
       "      <td>1.0</td>\n",
       "      <td>1.0</td>\n",
       "      <td>0.0</td>\n",
       "      <td>1.0</td>\n",
       "      <td>0.0</td>\n",
       "      <td>1.0</td>\n",
       "      <td>0.0</td>\n",
       "      <td>1.0</td>\n",
       "      <td>1.0</td>\n",
       "      <td>1.0</td>\n",
       "      <td>1.0</td>\n",
       "    </tr>\n",
       "  </tbody>\n",
       "</table>\n",
       "</div>"
      ],
      "text/plain": [
       "        sex   age  race_ethn   bmi  overweight  diabetes  diagnose_strk  \\\n",
       "310885  0.0  48.0        0.0  26.0         1.0       0.0            0.0   \n",
       "101653  0.0  38.0        0.0  22.0         0.0       0.0            0.0   \n",
       "237249  1.0  62.0        0.0  42.0         1.0       0.0            0.0   \n",
       "363045  1.0  64.0        0.0  22.0         0.0       0.0            0.0   \n",
       "228191  1.0  55.0        4.0  30.0         1.0       1.0            0.0   \n",
       "\n",
       "        smoker  high_bp  high_chol  heavy_drinker  exercise  fruit  vege  \\\n",
       "310885     0.0      1.0        0.0            0.0       1.0    0.0   0.0   \n",
       "101653     0.0      1.0        0.0            0.0       0.0    0.0   0.0   \n",
       "237249     0.0      0.0        0.0            0.0       0.0    0.0   1.0   \n",
       "363045     0.0      1.0        0.0            0.0       1.0    0.0   1.0   \n",
       "228191     1.0      0.0        1.0            0.0       1.0    1.0   1.0   \n",
       "\n",
       "        heart_attack_disease  \n",
       "310885                   0.0  \n",
       "101653                   0.0  \n",
       "237249                   0.0  \n",
       "363045                   0.0  \n",
       "228191                   1.0  "
      ]
     },
     "execution_count": 9,
     "metadata": {},
     "output_type": "execute_result"
    }
   ],
   "source": [
    "#train_df = X_train.copy()\n",
    "#train_df['heart_attack_disease'] = y_train\n",
    "#train_df.head()"
   ]
  },
  {
   "cell_type": "code",
   "execution_count": 11,
   "id": "1a6cfda4",
   "metadata": {},
   "outputs": [],
   "source": [
    "def make_confusion_matrix(model, threshold=0.5):\n",
    "    # Predict class 1 if probability of being in class 1 is greater than threshold\n",
    "    # (model.predict(X_test) does this automatically with a threshold of 0.5)\n",
    "    y_predict = (model.predict_proba(X_test_s)[:, 1] >= threshold)\n",
    "    fraud_confusion = confusion_matrix(y_test, y_predict)\n",
    "    plt.figure(dpi=80)\n",
    "    sns.heatmap(fraud_confusion, cmap=plt.cm.Blues, annot=True, square=True, fmt='d',\n",
    "           xticklabels=['no disease', 'disease'],\n",
    "           yticklabels=['no disease', 'disease']);\n",
    "    plt.xlabel('prediction')\n",
    "    plt.ylabel('actual')"
   ]
  },
  {
   "cell_type": "markdown",
   "id": "58f6333c",
   "metadata": {},
   "source": [
    "KNN "
   ]
  },
  {
   "cell_type": "code",
   "execution_count": 12,
   "id": "a3093421",
   "metadata": {},
   "outputs": [
    {
     "name": "stdout",
     "output_type": "stream",
     "text": [
      "KNN Baseline- Accuracy: 0.900783\n",
      "KNN Baseline- Precision: 0.313680\n",
      "KNN Baseline- Recall : 0.107335\n",
      "KNN Baseline- F1 : 0.159941\n"
     ]
    }
   ],
   "source": [
    "#knn \n",
    "knn =  KNeighborsClassifier()\n",
    "knn.fit(X_train_s, y_train)\n",
    "knn_pred = knn.predict(X_test_s)\n",
    "\n",
    "\n",
    "\n",
    "# need to print out metric scores for accuracy, precision, recall, F1 \n",
    "knn_acc = knn.score(X_test_s, y_test)\n",
    "knn_precision= precision_score(y_test, knn_pred)\n",
    "knn_recall = recall_score(y_test, knn_pred)\n",
    "knn_f1 = f1_score(y_test, knn_pred)\n",
    "\n",
    "print(f'KNN Baseline- Accuracy: {knn_acc:.6f}')\n",
    "print(f'KNN Baseline- Precision: {knn_precision:.6f}')\n",
    "print(f'KNN Baseline- Recall : {knn_recall:.6f}')\n",
    "print(f'KNN Baseline- F1 : {knn_f1:.6f}')\n",
    "    "
   ]
  },
  {
   "cell_type": "code",
   "execution_count": 13,
   "id": "6617362c",
   "metadata": {},
   "outputs": [
    {
     "data": {
      "image/png": "[encoded data removed]",
      "text/plain": [
       "<Figure size 512x384 with 2 Axes>"
      ]
     },
     "metadata": {},
     "output_type": "display_data"
    }
   ],
   "source": [
    "make_confusion_matrix(knn)"
   ]
  },
  {
   "cell_type": "code",
   "execution_count": 14,
   "id": "29127018",
   "metadata": {},
   "outputs": [
    {
     "name": "stdout",
     "output_type": "stream",
     "text": [
      "              precision    recall  f1-score   support\n",
      "\n",
      "         0.0       0.92      0.98      0.95    104283\n",
      "         1.0       0.31      0.11      0.16     10062\n",
      "\n",
      "    accuracy                           0.90    114345\n",
      "   macro avg       0.62      0.54      0.55    114345\n",
      "weighted avg       0.87      0.90      0.88    114345\n",
      "\n"
     ]
    }
   ],
   "source": [
    "print(classification_report(y_test, knn_pred))"
   ]
  },
  {
   "cell_type": "markdown",
   "id": "5e33369c",
   "metadata": {},
   "source": [
    "Logistic Regression "
   ]
  },
  {
   "cell_type": "code",
   "execution_count": 15,
   "id": "e069aaf9",
   "metadata": {},
   "outputs": [
    {
     "name": "stdout",
     "output_type": "stream",
     "text": [
      "Logistic Baseline- Accuracy: 0.912003\n",
      "Logistic Baseline- Precision: 0.500000\n",
      "Logistic Baseline- Recall : 0.051978\n",
      "Logistic Baseline- F1 : 0.094166\n"
     ]
    }
   ],
   "source": [
    "#logistic regression \n",
    "#set to no regularization\n",
    "lr =  LogisticRegression(C=1000)\n",
    "lr.fit(X_train_s, y_train)\n",
    "lr_pred = lr.predict(X_test_s)\n",
    "\n",
    "\n",
    "\n",
    "# need to print out metric scores for accuracy, precision, recall, F1 \n",
    "lr_acc = lr.score(X_test_s, y_test)\n",
    "lr_precision= precision_score(y_test, lr_pred)\n",
    "lr_recall = recall_score(y_test, lr_pred)\n",
    "lr_f1 = f1_score(y_test, lr_pred)\n",
    "\n",
    "print(f'Logistic Baseline- Accuracy: {lr_acc:.6f}')\n",
    "print(f'Logistic Baseline- Precision: {lr_precision:.6f}')\n",
    "print(f'Logistic Baseline- Recall : {lr_recall:.6f}')\n",
    "print(f'Logistic Baseline- F1 : {lr_f1:.6f}')\n",
    "    "
   ]
  },
  {
   "cell_type": "code",
   "execution_count": 16,
   "id": "c72617cb",
   "metadata": {},
   "outputs": [
    {
     "data": {
      "image/png": "[encoded data removed]",
      "text/plain": [
       "<Figure size 512x384 with 2 Axes>"
      ]
     },
     "metadata": {},
     "output_type": "display_data"
    }
   ],
   "source": [
    "make_confusion_matrix(lr)"
   ]
  },
  {
   "cell_type": "code",
   "execution_count": 17,
   "id": "ef41a6ae",
   "metadata": {},
   "outputs": [
    {
     "name": "stdout",
     "output_type": "stream",
     "text": [
      "              precision    recall  f1-score   support\n",
      "\n",
      "         0.0       0.92      0.99      0.95    104283\n",
      "         1.0       0.50      0.05      0.09     10062\n",
      "\n",
      "    accuracy                           0.91    114345\n",
      "   macro avg       0.71      0.52      0.52    114345\n",
      "weighted avg       0.88      0.91      0.88    114345\n",
      "\n"
     ]
    }
   ],
   "source": [
    "print(classification_report(y_test, lr_pred))"
   ]
  },
  {
   "cell_type": "markdown",
   "id": "1701041f",
   "metadata": {},
   "source": [
    "Decision Tree "
   ]
  },
  {
   "cell_type": "code",
   "execution_count": 18,
   "id": "eef27f89",
   "metadata": {},
   "outputs": [
    {
     "name": "stdout",
     "output_type": "stream",
     "text": [
      "Decision Tree Baseline- Accuracy: 0.912003\n",
      "Decision Tree Baseline- Precision: 0.219017\n",
      "Decision Tree Baseline- Recall : 0.162989\n",
      "Decision Tree Baseline- F1 : 0.186895\n"
     ]
    }
   ],
   "source": [
    "dtr =  DecisionTreeClassifier()\n",
    "dtr.fit(X_train, y_train)\n",
    "dtr_pred = dtr.predict(X_test)\n",
    "\n",
    "\n",
    "\n",
    "# need to print out metric scores for accuracy, precision, recall, F1 \n",
    "dtr_acc = knn.score(X_test, y_test)\n",
    "dtr_precision= precision_score(y_test, dtr_pred)\n",
    "dtr_recall = recall_score(y_test, dtr_pred)\n",
    "dtr_f1 = f1_score(y_test, dtr_pred)\n",
    "\n",
    "print(f'Decision Tree Baseline- Accuracy: {dtr_acc:.6f}')\n",
    "print(f'Decision Tree Baseline- Precision: {dtr_precision:.6f}')\n",
    "print(f'Decision Tree Baseline- Recall : {dtr_recall:.6f}')\n",
    "print(f'Decision Tree Baseline- F1 : {dtr_f1:.6f}')\n",
    "    "
   ]
  },
  {
   "cell_type": "code",
   "execution_count": 19,
   "id": "dffa5bc4",
   "metadata": {},
   "outputs": [
    {
     "data": {
      "image/png": "[encoded data removed]",
      "text/plain": [
       "<Figure size 512x384 with 2 Axes>"
      ]
     },
     "metadata": {},
     "output_type": "display_data"
    }
   ],
   "source": [
    "make_confusion_matrix(dtr)"
   ]
  },
  {
   "cell_type": "code",
   "execution_count": 20,
   "id": "ba5d5a90",
   "metadata": {},
   "outputs": [
    {
     "name": "stdout",
     "output_type": "stream",
     "text": [
      "              precision    recall  f1-score   support\n",
      "\n",
      "         0.0       0.92      0.94      0.93    104283\n",
      "         1.0       0.22      0.16      0.19     10062\n",
      "\n",
      "    accuracy                           0.88    114345\n",
      "   macro avg       0.57      0.55      0.56    114345\n",
      "weighted avg       0.86      0.88      0.87    114345\n",
      "\n"
     ]
    }
   ],
   "source": [
    "print(classification_report(y_test, dtr_pred))"
   ]
  },
  {
   "cell_type": "markdown",
   "id": "a55c6da6",
   "metadata": {},
   "source": [
    "Random Forest "
   ]
  },
  {
   "cell_type": "code",
   "execution_count": 21,
   "id": "f9fff70b",
   "metadata": {},
   "outputs": [
    {
     "name": "stdout",
     "output_type": "stream",
     "text": [
      "Random Forest Baseline- Accuracy: 0.912003\n",
      "Random Forest Baseline- Precision: 0.262494\n",
      "Random Forest Baseline- Recall : 0.115882\n",
      "Randome Forest Baseline- F1 : 0.160783\n"
     ]
    }
   ],
   "source": [
    "rtr =  RandomForestClassifier()\n",
    "rtr.fit(X_train, y_train)\n",
    "rtr_pred = rtr.predict(X_test)\n",
    "\n",
    "\n",
    "\n",
    "# need to print out metric scores for accuracy, precision, recall, F1 \n",
    "rtr_acc = knn.score(X_test, y_test)\n",
    "rtr_precision= precision_score(y_test, rtr_pred)\n",
    "rtr_recall = recall_score(y_test, rtr_pred)\n",
    "rtr_f1 = f1_score(y_test, rtr_pred)\n",
    "\n",
    "print(f'Random Forest Baseline- Accuracy: {rtr_acc:.6f}')\n",
    "print(f'Random Forest Baseline- Precision: {rtr_precision:.6f}')\n",
    "print(f'Random Forest Baseline- Recall : {rtr_recall:.6f}')\n",
    "print(f'Randome Forest Baseline- F1 : {rtr_f1:.6f}')"
   ]
  },
  {
   "cell_type": "code",
   "execution_count": 22,
   "id": "06d9a577",
   "metadata": {},
   "outputs": [
    {
     "data": {
      "image/png": "[encoded data removed]",
      "text/plain": [
       "<Figure size 512x384 with 2 Axes>"
      ]
     },
     "metadata": {},
     "output_type": "display_data"
    }
   ],
   "source": [
    "make_confusion_matrix(rtr)"
   ]
  },
  {
   "cell_type": "code",
   "execution_count": 23,
   "id": "78162750",
   "metadata": {},
   "outputs": [
    {
     "name": "stdout",
     "output_type": "stream",
     "text": [
      "              precision    recall  f1-score   support\n",
      "\n",
      "         0.0       0.92      0.97      0.94    104283\n",
      "         1.0       0.26      0.12      0.16     10062\n",
      "\n",
      "    accuracy                           0.89    114345\n",
      "   macro avg       0.59      0.54      0.55    114345\n",
      "weighted avg       0.86      0.89      0.87    114345\n",
      "\n"
     ]
    }
   ],
   "source": [
    "print(classification_report(y_test, rtr_pred))"
   ]
  },
  {
   "cell_type": "markdown",
   "id": "1ba9f306",
   "metadata": {},
   "source": [
    "XGBoost "
   ]
  },
  {
   "cell_type": "code",
   "execution_count": 28,
   "id": "c6961bd3",
   "metadata": {},
   "outputs": [
    {
     "name": "stdout",
     "output_type": "stream",
     "text": [
      "XGBoost Baseline- Accuracy: 0.912300\n",
      "XGBoost Baseline- Precision: 0.527157\n",
      "XGBoost Baseline- Recall : 0.032797\n",
      "XGBoost Baseline- F1 : 0.061751\n"
     ]
    }
   ],
   "source": [
    "xgb =  XGBClassifier()\n",
    "xgb.fit(X_train, y_train)\n",
    "xgb_pred = xgb.predict(X_test)\n",
    "\n",
    "\n",
    "\n",
    "# need to print out metric scores for accuracy, precision, recall, F1 \n",
    "xgb_acc = xgb.score(X_test, y_test)\n",
    "xgb_precision= precision_score(y_test, xgb_pred)\n",
    "xgb_recall = recall_score(y_test, xgb_pred)\n",
    "xgb_f1 = f1_score(y_test, xgb_pred)\n",
    "\n",
    "print(f'XGBoost Baseline- Accuracy: {xgb_acc:.6f}')\n",
    "print(f'XGBoost Baseline- Precision: {xgb_precision:.6f}')\n",
    "print(f'XGBoost Baseline- Recall : {xgb_recall:.6f}')\n",
    "print(f'XGBoost Baseline- F1 : {xgb_f1:.6f}')"
   ]
  },
  {
   "cell_type": "markdown",
   "id": "98571b74",
   "metadata": {},
   "source": [
    "ROC Curve"
   ]
  },
  {
   "cell_type": "code",
   "execution_count": 25,
   "id": "fbc5d097",
   "metadata": {},
   "outputs": [
    {
     "data": {
      "text/plain": [
       "''"
      ]
     },
     "execution_count": 25,
     "metadata": {},
     "output_type": "execute_result"
    },
    {
     "data": {
      "image/png": "[encoded data removed]",
      "text/plain": [
       "<Figure size 640x480 with 1 Axes>"
      ]
     },
     "metadata": {},
     "output_type": "display_data"
    }
   ],
   "source": [
    "#knn\n",
    "knn_fpr, knn_tpr, knn_thresholds = roc_curve(y_test, knn.predict_proba(X_test_s)[:,1])\n",
    "roc_auc_knn = auc(knn_fpr,knn_tpr)\n",
    "\n",
    "#logistic \n",
    "lr_fpr, lr_tpr, lr_thresholds = roc_curve(y_test, lr.predict_proba(X_test_s)[:,1])\n",
    "roc_auc_lr = auc(lr_fpr,lr_tpr)\n",
    "\n",
    "#Decision Tree  \n",
    "dtr_fpr, dtr_tpr, dtr_thresholds = roc_curve(y_test, dtr.predict_proba(X_test)[:,1])\n",
    "roc_auc_dtr = auc(dtr_fpr,dtr_tpr)\n",
    "\n",
    "#Random Forest \n",
    "rtr_fpr, rtr_tpr, rtr_thresholds = roc_curve(y_test, rtr.predict_proba(X_test)[:,1])\n",
    "roc_auc_rtr = auc(rtr_fpr,rtr_tpr)\n",
    "\n",
    "#XGBoost \n",
    "xgb_fpr, xgb_tpr, xgb_thresholds = roc_curve(y_test, xgb.predict_proba(X_test)[:,1])\n",
    "roc_auc_xgb = auc(xgb_fpr,xgb_tpr)\n",
    "\n",
    "plt.plot(knn_fpr, knn_tpr, c = 'orange', lw=2, label = f'knn, auc = {roc_auc_knn:.6f}')\n",
    "plt.plot(lr_fpr, lr_tpr, c = 'red', lw=2, label = f'Logistic Regression, auc = {roc_auc_lr:.6f}')\n",
    "plt.plot(dtr_fpr, dtr_tpr, c = 'blue', lw=2, label = f'Decision Tree, auc = {roc_auc_dtr:.6f}')\n",
    "plt.plot(rtr_fpr, rtr_tpr, c = 'yellow', lw=2, label = f'Random Forest, auc = {roc_auc_rtr:.6f}')\n",
    "plt.plot(xgb_fpr, xgb_tpr, c = 'green', lw=2, label = f'XGBoost , auc = {roc_auc_xgb:.6f}')\n",
    "\n",
    "\n",
    "plt.plot([0,1],[0,1],c='violet',ls='--')\n",
    "plt.xlim([-0.05,1.05])\n",
    "plt.ylim([-0.05,1.05])\n",
    "\n",
    "\n",
    "plt.xlabel('False positive rate')\n",
    "plt.ylabel('True positive rate')\n",
    "plt.legend(loc = 'lower right')\n",
    "plt.title('ROC curves: Baseline')\n",
    "plt.savefig('ROC_baseline.png', bbox_inches='tight')\n",
    ";\n"
   ]
  },
  {
   "cell_type": "code",
   "execution_count": 27,
   "id": "ab6148ec",
   "metadata": {},
   "outputs": [
    {
     "data": {
      "text/html": [
       "<div>\n",
       "<style scoped>\n",
       "    .dataframe tbody tr th:only-of-type {\n",
       "        vertical-align: middle;\n",
       "    }\n",
       "\n",
       "    .dataframe tbody tr th {\n",
       "        vertical-align: top;\n",
       "    }\n",
       "\n",
       "    .dataframe thead th {\n",
       "        text-align: right;\n",
       "    }\n",
       "</style>\n",
       "<table border=\"1\" class=\"dataframe\">\n",
       "  <thead>\n",
       "    <tr style=\"text-align: right;\">\n",
       "      <th></th>\n",
       "      <th>accuracy</th>\n",
       "      <th>precision</th>\n",
       "      <th>recall</th>\n",
       "      <th>f1</th>\n",
       "      <th>auc</th>\n",
       "    </tr>\n",
       "  </thead>\n",
       "  <tbody>\n",
       "    <tr>\n",
       "      <th>KNN</th>\n",
       "      <td>0.900783</td>\n",
       "      <td>0.313680</td>\n",
       "      <td>0.107335</td>\n",
       "      <td>0.159941</td>\n",
       "      <td>0.687268</td>\n",
       "    </tr>\n",
       "    <tr>\n",
       "      <th>Logistic Regression</th>\n",
       "      <td>0.912003</td>\n",
       "      <td>0.500000</td>\n",
       "      <td>0.051978</td>\n",
       "      <td>0.094166</td>\n",
       "      <td>0.817389</td>\n",
       "    </tr>\n",
       "    <tr>\n",
       "      <th>Decision Tree</th>\n",
       "      <td>0.912003</td>\n",
       "      <td>0.219017</td>\n",
       "      <td>0.162989</td>\n",
       "      <td>0.186895</td>\n",
       "      <td>0.607443</td>\n",
       "    </tr>\n",
       "    <tr>\n",
       "      <th>Random Forest</th>\n",
       "      <td>0.912003</td>\n",
       "      <td>0.262494</td>\n",
       "      <td>0.115882</td>\n",
       "      <td>0.160783</td>\n",
       "      <td>0.739229</td>\n",
       "    </tr>\n",
       "    <tr>\n",
       "      <th>XGBoost</th>\n",
       "      <td>0.912003</td>\n",
       "      <td>0.527157</td>\n",
       "      <td>0.032797</td>\n",
       "      <td>0.061751</td>\n",
       "      <td>0.819358</td>\n",
       "    </tr>\n",
       "  </tbody>\n",
       "</table>\n",
       "</div>"
      ],
      "text/plain": [
       "                     accuracy  precision    recall        f1       auc\n",
       "KNN                  0.900783   0.313680  0.107335  0.159941  0.687268\n",
       "Logistic Regression  0.912003   0.500000  0.051978  0.094166  0.817389\n",
       "Decision Tree        0.912003   0.219017  0.162989  0.186895  0.607443\n",
       "Random Forest        0.912003   0.262494  0.115882  0.160783  0.739229\n",
       "XGBoost              0.912003   0.527157  0.032797  0.061751  0.819358"
      ]
     },
     "execution_count": 27,
     "metadata": {},
     "output_type": "execute_result"
    }
   ],
   "source": [
    "acc = [knn_acc, lr_acc, dtr_acc, rtr_acc, xgb_acc]\n",
    "precision = [knn_precision, lr_precision, dtr_precision, rtr_precision, xgb_precision]\n",
    "recall = [knn_recall, lr_recall, dtr_recall, rtr_recall, xgb_recall]\n",
    "f1 = [knn_f1, lr_f1, dtr_f1, rtr_f1, xgb_f1]\n",
    "auc = [roc_auc_knn, roc_auc_lr, roc_auc_dtr, roc_auc_rtr, roc_auc_xgb]\n",
    "\n",
    "index_labels = ['KNN', 'Logistic Regression', 'Decision Tree', 'Random Forest', 'XGBoost']\n",
    "zipped = list(zip(acc, precision, recall, f1, auc))\n",
    "baseline_scores_df = pd.DataFrame(zipped, columns = ['accuracy', 'precision', 'recall', \n",
    "                                         'f1', 'auc'], index = index_labels)\n",
    "\n",
    "baseline_scores_df"
   ]
  },
  {
   "cell_type": "code",
   "execution_count": null,
   "id": "a591b63d",
   "metadata": {},
   "outputs": [],
   "source": [
    "baseline_scores_df.to_csv('baseline_scores_df.csv')"
   ]
  },
  {
   "cell_type": "code",
   "execution_count": null,
   "id": "ed24a8cf",
   "metadata": {},
   "outputs": [],
   "source": []
  }
 ],
 "metadata": {
  "kernelspec": {
   "display_name": "Python 3 (engineering)",
   "language": "python",
   "name": "engineering"
  },
  "language_info": {
   "codemirror_mode": {
    "name": "ipython",
    "version": 3
   },
   "file_extension": ".py",
   "mimetype": "text/x-python",
   "name": "python",
   "nbconvert_exporter": "python",
   "pygments_lexer": "ipython3",
   "version": "3.9.12"
  }
 },
 "nbformat": 4,
 "nbformat_minor": 5
}

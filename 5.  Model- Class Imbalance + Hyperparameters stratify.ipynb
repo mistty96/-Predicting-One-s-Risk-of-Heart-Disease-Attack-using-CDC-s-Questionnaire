{
 "cells": [
  {
   "cell_type": "code",
   "execution_count": 1,
   "id": "abeb0b41",
   "metadata": {},
   "outputs": [],
   "source": [
    "import pandas as pd \n",
    "import numpy as np \n",
    "\n",
    "from sklearn.neighbors import KNeighborsClassifier\n",
    "from sklearn.linear_model import LogisticRegression\n",
    "from sklearn.tree import DecisionTreeClassifier\n",
    "from sklearn.ensemble import RandomForestClassifier\n",
    "\n",
    "import xgboost as xgb\n",
    "from xgboost import XGBClassifier\n",
    "\n",
    "\n",
    "from sklearn.model_selection import train_test_split\n",
    "from sklearn.pipeline import Pipeline\n",
    "from sklearn.model_selection import GridSearchCV, RandomizedSearchCV\n",
    "\n",
    "from sklearn.model_selection import KFold,StratifiedKFold\n",
    "\n",
    "from sklearn.metrics import precision_score, recall_score\n",
    "from sklearn.metrics import precision_recall_curve, fbeta_score, f1_score \n",
    "from sklearn.metrics import roc_auc_score, roc_curve, auc\n",
    "from sklearn.metrics import confusion_matrix, classification_report\n",
    "\n",
    "from sklearn.preprocessing import StandardScaler\n",
    "\n",
    "import imblearn.over_sampling\n",
    "\n",
    "\n",
    "from sklearn.metrics import log_loss\n",
    "from sklearn import metrics\n",
    "\n",
    "import warnings\n",
    "warnings.simplefilter(action='ignore')\n",
    "\n",
    "\n",
    "import matplotlib.pyplot as plt\n",
    "import seaborn as sns"
   ]
  },
  {
   "cell_type": "code",
   "execution_count": 2,
   "id": "1992a657",
   "metadata": {},
   "outputs": [
    {
     "data": {
      "text/html": [
       "<div>\n",
       "<style scoped>\n",
       "    .dataframe tbody tr th:only-of-type {\n",
       "        vertical-align: middle;\n",
       "    }\n",
       "\n",
       "    .dataframe tbody tr th {\n",
       "        vertical-align: top;\n",
       "    }\n",
       "\n",
       "    .dataframe thead th {\n",
       "        text-align: right;\n",
       "    }\n",
       "</style>\n",
       "<table border=\"1\" class=\"dataframe\">\n",
       "  <thead>\n",
       "    <tr style=\"text-align: right;\">\n",
       "      <th></th>\n",
       "      <th>heart_attack_disease</th>\n",
       "      <th>sex</th>\n",
       "      <th>age</th>\n",
       "      <th>race_ethn</th>\n",
       "      <th>bmi</th>\n",
       "      <th>overweight</th>\n",
       "      <th>diabetes</th>\n",
       "      <th>diagnose_strk</th>\n",
       "      <th>smoker</th>\n",
       "      <th>high_bp</th>\n",
       "      <th>high_chol</th>\n",
       "      <th>heavy_drinker</th>\n",
       "      <th>exercise</th>\n",
       "      <th>fruit</th>\n",
       "      <th>vege</th>\n",
       "    </tr>\n",
       "  </thead>\n",
       "  <tbody>\n",
       "    <tr>\n",
       "      <th>0</th>\n",
       "      <td>0.0</td>\n",
       "      <td>1.0</td>\n",
       "      <td>70.0</td>\n",
       "      <td>0.0</td>\n",
       "      <td>15.0</td>\n",
       "      <td>0.0</td>\n",
       "      <td>0.0</td>\n",
       "      <td>0.0</td>\n",
       "      <td>1.0</td>\n",
       "      <td>1.0</td>\n",
       "      <td>1.0</td>\n",
       "      <td>0.0</td>\n",
       "      <td>0.0</td>\n",
       "      <td>1.0</td>\n",
       "      <td>1.0</td>\n",
       "    </tr>\n",
       "    <tr>\n",
       "      <th>1</th>\n",
       "      <td>1.0</td>\n",
       "      <td>1.0</td>\n",
       "      <td>67.0</td>\n",
       "      <td>1.0</td>\n",
       "      <td>28.0</td>\n",
       "      <td>1.0</td>\n",
       "      <td>1.0</td>\n",
       "      <td>0.0</td>\n",
       "      <td>0.0</td>\n",
       "      <td>0.0</td>\n",
       "      <td>1.0</td>\n",
       "      <td>0.0</td>\n",
       "      <td>1.0</td>\n",
       "      <td>1.0</td>\n",
       "      <td>1.0</td>\n",
       "    </tr>\n",
       "    <tr>\n",
       "      <th>2</th>\n",
       "      <td>1.0</td>\n",
       "      <td>1.0</td>\n",
       "      <td>72.0</td>\n",
       "      <td>1.0</td>\n",
       "      <td>28.0</td>\n",
       "      <td>1.0</td>\n",
       "      <td>1.0</td>\n",
       "      <td>0.0</td>\n",
       "      <td>0.0</td>\n",
       "      <td>0.0</td>\n",
       "      <td>0.0</td>\n",
       "      <td>0.0</td>\n",
       "      <td>0.0</td>\n",
       "      <td>1.0</td>\n",
       "      <td>0.0</td>\n",
       "    </tr>\n",
       "    <tr>\n",
       "      <th>3</th>\n",
       "      <td>0.0</td>\n",
       "      <td>1.0</td>\n",
       "      <td>62.0</td>\n",
       "      <td>0.0</td>\n",
       "      <td>33.0</td>\n",
       "      <td>1.0</td>\n",
       "      <td>1.0</td>\n",
       "      <td>0.0</td>\n",
       "      <td>0.0</td>\n",
       "      <td>0.0</td>\n",
       "      <td>1.0</td>\n",
       "      <td>0.0</td>\n",
       "      <td>1.0</td>\n",
       "      <td>1.0</td>\n",
       "      <td>1.0</td>\n",
       "    </tr>\n",
       "    <tr>\n",
       "      <th>4</th>\n",
       "      <td>1.0</td>\n",
       "      <td>0.0</td>\n",
       "      <td>76.0</td>\n",
       "      <td>5.0</td>\n",
       "      <td>29.0</td>\n",
       "      <td>1.0</td>\n",
       "      <td>1.0</td>\n",
       "      <td>1.0</td>\n",
       "      <td>0.0</td>\n",
       "      <td>1.0</td>\n",
       "      <td>1.0</td>\n",
       "      <td>0.0</td>\n",
       "      <td>1.0</td>\n",
       "      <td>1.0</td>\n",
       "      <td>1.0</td>\n",
       "    </tr>\n",
       "  </tbody>\n",
       "</table>\n",
       "</div>"
      ],
      "text/plain": [
       "   heart_attack_disease  sex   age  race_ethn   bmi  overweight  diabetes  \\\n",
       "0                   0.0  1.0  70.0        0.0  15.0         0.0       0.0   \n",
       "1                   1.0  1.0  67.0        1.0  28.0         1.0       1.0   \n",
       "2                   1.0  1.0  72.0        1.0  28.0         1.0       1.0   \n",
       "3                   0.0  1.0  62.0        0.0  33.0         1.0       1.0   \n",
       "4                   1.0  0.0  76.0        5.0  29.0         1.0       1.0   \n",
       "\n",
       "   diagnose_strk  smoker  high_bp  high_chol  heavy_drinker  exercise  fruit  \\\n",
       "0            0.0     1.0      1.0        1.0            0.0       0.0    1.0   \n",
       "1            0.0     0.0      0.0        1.0            0.0       1.0    1.0   \n",
       "2            0.0     0.0      0.0        0.0            0.0       0.0    1.0   \n",
       "3            0.0     0.0      0.0        1.0            0.0       1.0    1.0   \n",
       "4            1.0     0.0      1.0        1.0            0.0       1.0    1.0   \n",
       "\n",
       "   vege  \n",
       "0   1.0  \n",
       "1   1.0  \n",
       "2   0.0  \n",
       "3   1.0  \n",
       "4   1.0  "
      ]
     },
     "execution_count": 2,
     "metadata": {},
     "output_type": "execute_result"
    }
   ],
   "source": [
    "df= pd.read_csv('cleaned_dataset.csv')\n",
    "df.head()"
   ]
  },
  {
   "cell_type": "code",
   "execution_count": 3,
   "id": "55f39566",
   "metadata": {},
   "outputs": [
    {
     "data": {
      "text/plain": [
       "0.0    347607\n",
       "1.0     33540\n",
       "Name: heart_attack_disease, dtype: int64"
      ]
     },
     "execution_count": 3,
     "metadata": {},
     "output_type": "execute_result"
    }
   ],
   "source": [
    "df.heart_attack_disease.value_counts()"
   ]
  },
  {
   "cell_type": "code",
   "execution_count": 4,
   "id": "10dffefa",
   "metadata": {},
   "outputs": [
    {
     "data": {
      "text/plain": [
       "0.0    0.912002\n",
       "1.0    0.087998\n",
       "Name: heart_attack_disease, dtype: float64"
      ]
     },
     "execution_count": 4,
     "metadata": {},
     "output_type": "execute_result"
    }
   ],
   "source": [
    "df.heart_attack_disease.value_counts(normalize = True)"
   ]
  },
  {
   "cell_type": "code",
   "execution_count": 5,
   "id": "9136a8e5",
   "metadata": {},
   "outputs": [],
   "source": [
    "#class is imbalanced , will use techniques to handle imbalance in order to improve metric scores"
   ]
  },
  {
   "cell_type": "code",
   "execution_count": 6,
   "id": "97823281",
   "metadata": {},
   "outputs": [],
   "source": [
    "X = df.drop(['heart_attack_disease'], axis = 1)\n",
    "y = df['heart_attack_disease']"
   ]
  },
  {
   "cell_type": "code",
   "execution_count": 7,
   "id": "b65c2cf7",
   "metadata": {},
   "outputs": [],
   "source": [
    "X_train, X_test, y_train, y_test = train_test_split(X,y, \n",
    "                                                    test_size = 0.3, \n",
    "                                                    random_state=42, \n",
    "                                                   stratify = y)\n",
    "scaler = StandardScaler()\n",
    "X_train_s = scaler.fit_transform(X_train)\n",
    "X_test_s = scaler.transform(X_test)"
   ]
  },
  {
   "cell_type": "code",
   "execution_count": 8,
   "id": "c3b40b34",
   "metadata": {},
   "outputs": [
    {
     "data": {
      "text/plain": [
       "(266802, 14)"
      ]
     },
     "execution_count": 8,
     "metadata": {},
     "output_type": "execute_result"
    }
   ],
   "source": [
    "X_train.shape"
   ]
  },
  {
   "cell_type": "code",
   "execution_count": 9,
   "id": "c64a68e6",
   "metadata": {},
   "outputs": [
    {
     "data": {
      "text/plain": [
       "(114345, 14)"
      ]
     },
     "execution_count": 9,
     "metadata": {},
     "output_type": "execute_result"
    }
   ],
   "source": [
    "X_test.shape"
   ]
  },
  {
   "cell_type": "code",
   "execution_count": 10,
   "id": "abc5d634",
   "metadata": {},
   "outputs": [
    {
     "data": {
      "text/plain": [
       "0.0    243324\n",
       "1.0     23478\n",
       "Name: heart_attack_disease, dtype: int64"
      ]
     },
     "execution_count": 10,
     "metadata": {},
     "output_type": "execute_result"
    }
   ],
   "source": [
    "y_train.value_counts()"
   ]
  },
  {
   "cell_type": "code",
   "execution_count": 11,
   "id": "5f4888ba",
   "metadata": {},
   "outputs": [],
   "source": [
    "def make_confusion_matrix(model, threshold = 0.5):\n",
    "    # Predict class 1 if probability of being in class 1 is greater than threshold\n",
    "    # (model.predict(X_test) does this automatically with a threshold of 0.5)\n",
    "    y_predict = (model.predict_proba(X_test_s)[:, 1] >= threshold)\n",
    "    fraud_confusion = confusion_matrix(y_test, y_predict)\n",
    "    plt.figure(dpi=80)\n",
    "    sns.heatmap(fraud_confusion, cmap=plt.cm.Blues, annot=True, square=True, fmt='d',\n",
    "           xticklabels=['no disease', 'disease'],\n",
    "           yticklabels=['no disease', 'disease']);\n",
    "    plt.xlabel('prediction')\n",
    "    plt.ylabel('actual')"
   ]
  },
  {
   "cell_type": "markdown",
   "id": "b502641f",
   "metadata": {},
   "source": [
    "Logistic\n",
    "1a. Class Weight + GridSearchCV\n",
    "1b. Oversampling + GridSearchCV\n",
    "1c. SMOTE + GridSearchCV"
   ]
  },
  {
   "cell_type": "code",
   "execution_count": 12,
   "id": "1d409a68",
   "metadata": {},
   "outputs": [],
   "source": [
    "#1a. Class weight + GridSearchCV\n",
    "grid_values = {'penalty': ['l1','l2'], 'C': [0.001,0.01,0.1,1,10,100,1000]}\n",
    "#cv = StratifiedKFold(n_splits=5, shuffle=True, random_state=42)\n",
    "\n",
    "lr_balanced = LogisticRegression(class_weight='balanced', \n",
    "                                 solver='liblinear')\n",
    "grid_lr_weight = GridSearchCV(lr_balanced, param_grid = grid_values, cv=5,\n",
    "                       scoring=['precision','recall','f1', 'roc_auc'], n_jobs=-1, \n",
    "                       return_train_score = True, refit = 'recall')\n",
    "grid_lr_weight.fit(X_train_s, y_train)\n",
    "\n",
    "lr_grid_pred = grid_lr_weight.predict(X_test_s)\n",
    "lr_grid_best_para = grid_lr_weight.best_params_\n"
   ]
  },
  {
   "cell_type": "code",
   "execution_count": 13,
   "id": "5c3cca42",
   "metadata": {},
   "outputs": [
    {
     "name": "stdout",
     "output_type": "stream",
     "text": [
      "{'C': 0.001, 'penalty': 'l1'}\n"
     ]
    }
   ],
   "source": [
    "print(lr_grid_best_para)"
   ]
  },
  {
   "cell_type": "code",
   "execution_count": 14,
   "id": "b072c103",
   "metadata": {},
   "outputs": [
    {
     "name": "stdout",
     "output_type": "stream",
     "text": [
      "{'C': 0.001, 'class_weight': 'balanced', 'dual': False, 'fit_intercept': True, 'intercept_scaling': 1, 'l1_ratio': None, 'max_iter': 100, 'multi_class': 'auto', 'n_jobs': None, 'penalty': 'l1', 'random_state': None, 'solver': 'liblinear', 'tol': 0.0001, 'verbose': 0, 'warm_start': False}\n"
     ]
    }
   ],
   "source": [
    "print(grid_lr_weight.best_estimator_.get_params())"
   ]
  },
  {
   "cell_type": "code",
   "execution_count": 15,
   "id": "ac11503d",
   "metadata": {},
   "outputs": [
    {
     "name": "stdout",
     "output_type": "stream",
     "text": [
      "              precision    recall  f1-score   support\n",
      "\n",
      "         0.0       0.97      0.70      0.82    104283\n",
      "         1.0       0.20      0.79      0.32     10062\n",
      "\n",
      "    accuracy                           0.71    114345\n",
      "   macro avg       0.59      0.75      0.57    114345\n",
      "weighted avg       0.90      0.71      0.77    114345\n",
      "\n"
     ]
    }
   ],
   "source": [
    "print(classification_report(y_test, lr_grid_pred))"
   ]
  },
  {
   "cell_type": "code",
   "execution_count": 16,
   "id": "b9560f3f",
   "metadata": {},
   "outputs": [
    {
     "data": {
      "text/plain": [
       "<AxesSubplot:>"
      ]
     },
     "execution_count": 16,
     "metadata": {},
     "output_type": "execute_result"
    },
    {
     "data": {
      "image/png": "[encoded data removed]",
      "text/plain": [
       "<Figure size 640x480 with 2 Axes>"
      ]
     },
     "metadata": {},
     "output_type": "display_data"
    }
   ],
   "source": [
    "cf_matrix_lr = confusion_matrix(y_test, lr_grid_pred)\n",
    "sns.heatmap(cf_matrix_lr/np.sum(cf_matrix_lr), annot=True, \n",
    "            fmt='.2%', cmap='Blues')"
   ]
  },
  {
   "cell_type": "code",
   "execution_count": 17,
   "id": "7288392e",
   "metadata": {},
   "outputs": [
    {
     "name": "stdout",
     "output_type": "stream",
     "text": [
      "Logistic Regression (Test) Class Weight: Accuracy: 0.711426\n",
      "Logistic Regression (Test) Class Weight: Precision: 0.204148\n",
      "Logistic Regression (Test) Class Weight: Recall : 0.786424\n",
      "Logistic Regression (Test) Class Weight: F1 : 0.324151\n",
      "Logistic Regression (Test) Class Weight: Roc : 0.817612\n"
     ]
    }
   ],
   "source": [
    "#retrain using best hyperparameters , score on test \n",
    "        \n",
    "lr_weight_2 = LogisticRegression(C = 0.001, class_weight = 'balanced', \n",
    "                                 dual = False, fit_intercept = True, intercept_scaling = 1, \n",
    "                                 l1_ratio =  None, max_iter = 100, multi_class = 'auto', n_jobs = None, \n",
    "                                 penalty = 'l1',random_state =  None, solver = 'liblinear', tol =  0.0001, \n",
    "                                 verbose =  0, warm_start =  False)\n",
    "lr_weight_2.fit(X_train_s, y_train)\n",
    "lr_pred_weight = lr_weight_2.predict(X_test_s)\n",
    "\n",
    "lr_acc_weight = lr_weight_2.score(X_test_s, y_test)\n",
    "lr_precision_weight= precision_score(y_test, lr_pred_weight)\n",
    "lr_recall_weight = recall_score(y_test, lr_pred_weight)\n",
    "lr_f1_weight = f1_score(y_test, lr_pred_weight)\n",
    "\n",
    "lr_fpr_weight, lr_tpr_weight, lr_thresholds_weight = roc_curve(y_test, lr_weight_2.predict_proba(X_test_s)[:,1])\n",
    "roc_auc_lr_weight = auc(lr_fpr_weight,lr_tpr_weight)\n",
    "\n",
    "print(f'Logistic Regression (Test) Class Weight: Accuracy: {lr_acc_weight:.6f}')\n",
    "print(f'Logistic Regression (Test) Class Weight: Precision: {lr_precision_weight:.6f}')\n",
    "print(f'Logistic Regression (Test) Class Weight: Recall : {lr_recall_weight:.6f}')\n",
    "print(f'Logistic Regression (Test) Class Weight: F1 : {lr_f1_weight:.6f}')\n",
    "print(f'Logistic Regression (Test) Class Weight: Roc : {roc_auc_lr_weight:.6f}')"
   ]
  },
  {
   "cell_type": "markdown",
   "id": "eb14c49c",
   "metadata": {},
   "source": [
    "1b. Oversampling + GridSearchCV (Logistic Regression)"
   ]
  },
  {
   "cell_type": "code",
   "execution_count": 18,
   "id": "56fb90ff",
   "metadata": {},
   "outputs": [],
   "source": [
    "n_pos = np.sum(y_train == 1)\n",
    "n_neg = np.sum(y_train == 0)\n",
    "\n",
    "imb_ratio = int(n_neg/n_pos)\n",
    "ratio = {1 : n_pos * imb_ratio, 0 : n_neg} \n",
    "\n",
    "ros = imblearn.over_sampling.RandomOverSampler(sampling_strategy= ratio, random_state = 44)\n",
    "X_train_rs, y_train_rs = ros.fit_resample(X_train_s, y_train)"
   ]
  },
  {
   "cell_type": "code",
   "execution_count": 19,
   "id": "44b97445",
   "metadata": {},
   "outputs": [
    {
     "name": "stdout",
     "output_type": "stream",
     "text": [
      "Fitting 5 folds for each of 14 candidates, totalling 70 fits\n"
     ]
    }
   ],
   "source": [
    "grid_values = {'penalty': ['l1','l2'], 'C': [0.001,0.01,0.1,1,10,100,1000]}\n",
    "\n",
    "lr_rs = LogisticRegression(solver='liblinear')\n",
    "grid_lr_rs = GridSearchCV(lr_rs, param_grid = grid_values, cv=5,\n",
    "                       scoring=['precision','recall','f1', 'roc_auc'], n_jobs=-1, \n",
    "                       return_train_score = True, refit = 'recall', verbose = 2)\n",
    "grid_lr_rs.fit(X_train_rs, y_train_rs)\n",
    "\n",
    "lr_grid_pred_rs = grid_lr_rs.predict(X_test_s)\n",
    "lr_grid_best_para_rs = grid_lr_rs.best_params_\n"
   ]
  },
  {
   "cell_type": "code",
   "execution_count": 20,
   "id": "0f5eb900",
   "metadata": {},
   "outputs": [
    {
     "name": "stdout",
     "output_type": "stream",
     "text": [
      "{'C': 0.001, 'penalty': 'l1'}\n"
     ]
    }
   ],
   "source": [
    "print(lr_grid_best_para_rs)"
   ]
  },
  {
   "cell_type": "code",
   "execution_count": 21,
   "id": "f31f96ad",
   "metadata": {},
   "outputs": [
    {
     "name": "stdout",
     "output_type": "stream",
     "text": [
      "{'C': 0.001, 'class_weight': None, 'dual': False, 'fit_intercept': True, 'intercept_scaling': 1, 'l1_ratio': None, 'max_iter': 100, 'multi_class': 'auto', 'n_jobs': None, 'penalty': 'l1', 'random_state': None, 'solver': 'liblinear', 'tol': 0.0001, 'verbose': 0, 'warm_start': False}\n"
     ]
    }
   ],
   "source": [
    "print(grid_lr_rs.best_estimator_.get_params())"
   ]
  },
  {
   "cell_type": "code",
   "execution_count": 22,
   "id": "4254ac14",
   "metadata": {},
   "outputs": [
    {
     "name": "stdout",
     "output_type": "stream",
     "text": [
      "              precision    recall  f1-score   support\n",
      "\n",
      "         0.0       0.97      0.72      0.82    104283\n",
      "         1.0       0.21      0.77      0.33     10062\n",
      "\n",
      "    accuracy                           0.72    114345\n",
      "   macro avg       0.59      0.74      0.58    114345\n",
      "weighted avg       0.90      0.72      0.78    114345\n",
      "\n"
     ]
    }
   ],
   "source": [
    "print(classification_report(y_test, lr_grid_pred_rs))"
   ]
  },
  {
   "cell_type": "code",
   "execution_count": 23,
   "id": "d1f73ed1",
   "metadata": {},
   "outputs": [
    {
     "data": {
      "text/plain": [
       "<AxesSubplot:>"
      ]
     },
     "execution_count": 23,
     "metadata": {},
     "output_type": "execute_result"
    },
    {
     "data": {
      "image/png": "[encoded data removed]",
      "text/plain": [
       "<Figure size 640x480 with 2 Axes>"
      ]
     },
     "metadata": {},
     "output_type": "display_data"
    }
   ],
   "source": [
    "cf_matrix_lr_rs = confusion_matrix(y_test, lr_grid_pred_rs)\n",
    "sns.heatmap(cf_matrix_lr_rs/np.sum(cf_matrix_lr_rs), annot=True, \n",
    "            fmt='.2%', cmap='Blues')"
   ]
  },
  {
   "cell_type": "code",
   "execution_count": 24,
   "id": "cc4d3cda",
   "metadata": {},
   "outputs": [
    {
     "name": "stdout",
     "output_type": "stream",
     "text": [
      "Logistic Regression (Test) Oversampling: Accuracy: 0.720443\n",
      "Logistic Regression (Test) Oversampling: Precision: 0.207541\n",
      "Logistic Regression (Test) Oversampling: Recall : 0.772411\n",
      "Logistic Regression (Test) Oversampling: F1 : 0.327173\n",
      "Logistic Regression (Test) Oversampling: Roc : 0.817695\n"
     ]
    }
   ],
   "source": [
    "#train using best hyperparameters , test \n",
    "lr_rs_2 = LogisticRegression(C = 0.001, class_weight = None, dual = False, \n",
    "                             fit_intercept = True, intercept_scaling = 1, l1_ratio = None,\n",
    "                             max_iter = 100, multi_class = 'auto', n_jobs = None, penalty= 'l1',\n",
    "                             random_state = None, solver = 'liblinear', tol = 0.0001, \n",
    "                             verbose = 0, warm_start = False)\n",
    "lr_rs_2.fit(X_train_rs, y_train_rs)\n",
    "lr_pred_rs_2 = lr_rs_2.predict(X_test_s)\n",
    "\n",
    "lr_acc_os = lr_rs_2.score(X_test_s, y_test)\n",
    "lr_precision_os= precision_score(y_test, lr_pred_rs_2)\n",
    "lr_recall_os = recall_score(y_test, lr_pred_rs_2)\n",
    "lr_f1_os = f1_score(y_test, lr_pred_rs_2)\n",
    "\n",
    "lr_fpr_os, lr_tpr_os, lr_thresholds_os = roc_curve(y_test, lr_rs_2.predict_proba(X_test_s)[:,1])\n",
    "roc_auc_lr_os = auc(lr_fpr_os,lr_tpr_os)\n",
    "\n",
    "print(f'Logistic Regression (Test) Oversampling: Accuracy: {lr_acc_os:.6f}')\n",
    "print(f'Logistic Regression (Test) Oversampling: Precision: {lr_precision_os:.6f}')\n",
    "print(f'Logistic Regression (Test) Oversampling: Recall : {lr_recall_os:.6f}')\n",
    "print(f'Logistic Regression (Test) Oversampling: F1 : {lr_f1_os:.6f}')\n",
    "print(f'Logistic Regression (Test) Oversampling: Roc : {roc_auc_lr_os:.6f}')"
   ]
  },
  {
   "cell_type": "markdown",
   "id": "620f0049",
   "metadata": {},
   "source": [
    "1c. SMOTE + RandomizedSearchCV"
   ]
  },
  {
   "cell_type": "code",
   "execution_count": 25,
   "id": "46d3bcdd",
   "metadata": {},
   "outputs": [],
   "source": [
    "n_pos = np.sum(y_train == 1)\n",
    "n_neg = np.sum(y_train == 0)\n",
    "\n",
    "imb_ratio = int(n_neg/n_pos)\n",
    "ratio = {1 : n_pos * imb_ratio, 0 : n_neg} \n",
    "\n",
    "smote = imblearn.over_sampling.SMOTE(sampling_strategy=ratio, random_state = 42)\n",
    "   \n",
    "X_train_smote, y_train_smote = smote.fit_resample(X_train_s, y_train)"
   ]
  },
  {
   "cell_type": "code",
   "execution_count": 26,
   "id": "8f0923be",
   "metadata": {},
   "outputs": [
    {
     "name": "stdout",
     "output_type": "stream",
     "text": [
      "Fitting 5 folds for each of 14 candidates, totalling 70 fits\n"
     ]
    }
   ],
   "source": [
    "grid_values = {'penalty': ['l1','l2'], 'C': [0.001,0.01,0.1,1,10,100,1000]}\n",
    "#cv = StratifiedKFold(n_splits=5, shuffle=True, random_state=42)\n",
    "\n",
    "lr_smote = LogisticRegression(solver='liblinear')\n",
    "grid_lr_smote = GridSearchCV(lr_smote, param_grid = grid_values, cv=5,\n",
    "                       scoring=['precision','recall','f1', 'roc_auc'], n_jobs=-1, \n",
    "                       return_train_score = True, refit = 'recall', verbose = 2)\n",
    "grid_lr_smote.fit(X_train_smote, y_train_smote)\n",
    "\n",
    "lr_grid_pred_smote = grid_lr_smote.predict(X_test_s)\n",
    "lr_grid_best_para_smote = grid_lr_smote.best_params_"
   ]
  },
  {
   "cell_type": "code",
   "execution_count": 27,
   "id": "afb33a59",
   "metadata": {},
   "outputs": [
    {
     "name": "stdout",
     "output_type": "stream",
     "text": [
      "{'C': 0.001, 'penalty': 'l1'}\n"
     ]
    }
   ],
   "source": [
    "print(lr_grid_best_para_smote)"
   ]
  },
  {
   "cell_type": "code",
   "execution_count": 28,
   "id": "2e7a40cd",
   "metadata": {},
   "outputs": [
    {
     "name": "stdout",
     "output_type": "stream",
     "text": [
      "{'C': 0.001, 'class_weight': None, 'dual': False, 'fit_intercept': True, 'intercept_scaling': 1, 'l1_ratio': None, 'max_iter': 100, 'multi_class': 'auto', 'n_jobs': None, 'penalty': 'l1', 'random_state': None, 'solver': 'liblinear', 'tol': 0.0001, 'verbose': 0, 'warm_start': False}\n"
     ]
    }
   ],
   "source": [
    "print(grid_lr_smote.best_estimator_.get_params())"
   ]
  },
  {
   "cell_type": "code",
   "execution_count": 29,
   "id": "42a2f4fa",
   "metadata": {},
   "outputs": [
    {
     "name": "stdout",
     "output_type": "stream",
     "text": [
      "              precision    recall  f1-score   support\n",
      "\n",
      "         0.0       0.97      0.72      0.82    104283\n",
      "         1.0       0.21      0.77      0.33     10062\n",
      "\n",
      "    accuracy                           0.72    114345\n",
      "   macro avg       0.59      0.74      0.58    114345\n",
      "weighted avg       0.90      0.72      0.78    114345\n",
      "\n"
     ]
    }
   ],
   "source": [
    "print(classification_report(y_test, lr_grid_pred_smote))"
   ]
  },
  {
   "cell_type": "code",
   "execution_count": 30,
   "id": "382b5f8a",
   "metadata": {},
   "outputs": [
    {
     "data": {
      "text/plain": [
       "<AxesSubplot:>"
      ]
     },
     "execution_count": 30,
     "metadata": {},
     "output_type": "execute_result"
    },
    {
     "data": {
      "image/png": "[encoded data removed]",
      "text/plain": [
       "<Figure size 640x480 with 2 Axes>"
      ]
     },
     "metadata": {},
     "output_type": "display_data"
    }
   ],
   "source": [
    "cf_matrix_lr_smote = confusion_matrix(y_test, lr_grid_pred_smote)\n",
    "sns.heatmap(cf_matrix_lr_smote/np.sum(cf_matrix_lr_smote), annot=True, \n",
    "            fmt='.2%', cmap='Blues')"
   ]
  },
  {
   "cell_type": "code",
   "execution_count": 31,
   "id": "6d2dac8c",
   "metadata": {},
   "outputs": [
    {
     "name": "stdout",
     "output_type": "stream",
     "text": [
      "Logistic Regression (Test) Smote: Accuracy: 0.721300\n",
      "Logistic Regression (Test) Smote: Precision: 0.208242\n",
      "Logistic Regression (Test) Smote: Recall : 0.773405\n",
      "Logistic Regression (Test) Smote: F1 : 0.328133\n",
      "Logistic Regression (Test) Smote: Roc : 0.817285\n"
     ]
    }
   ],
   "source": [
    "#retrain using best hyperparameters , test \n",
    "lr_smote_2 = LogisticRegression(C = 0.001, class_weight = None, dual = False, fit_intercept = True, \n",
    "                                intercept_scaling = 1, l1_ratio = None, max_iter = 100, \n",
    "                                multi_class = 'auto', n_jobs = None, penalty = 'l1',\n",
    "                                random_state = None, solver = 'liblinear', tol = 0.0001, \n",
    "                                verbose = 0, warm_start = False)\n",
    "lr_smote_2.fit(X_train_smote, y_train_smote)\n",
    "lr_pred_smote_2 = lr_smote_2.predict(X_test_s)\n",
    "\n",
    "lr_acc_smote = lr_smote_2.score(X_test_s, y_test)\n",
    "lr_precision_smote= precision_score(y_test, lr_pred_smote_2)\n",
    "lr_recall_smote = recall_score(y_test, lr_pred_smote_2)\n",
    "lr_f1_smote = f1_score(y_test, lr_pred_smote_2)\n",
    "\n",
    "lr_fpr_smote, lr_tpr_smote, lr_thresholds_smote = roc_curve(y_test, lr_smote_2.predict_proba(X_test_s)[:,1])\n",
    "roc_auc_lr_smote = auc(lr_fpr_smote,lr_tpr_smote)\n",
    "\n",
    "print(f'Logistic Regression (Test) Smote: Accuracy: {lr_acc_smote:.6f}')\n",
    "print(f'Logistic Regression (Test) Smote: Precision: {lr_precision_smote:.6f}')\n",
    "print(f'Logistic Regression (Test) Smote: Recall : {lr_recall_smote:.6f}')\n",
    "print(f'Logistic Regression (Test) Smote: F1 : {lr_f1_smote:.6f}')\n",
    "print(f'Logistic Regression (Test) Smote: Roc : {roc_auc_lr_smote:.6f}')"
   ]
  },
  {
   "cell_type": "markdown",
   "id": "401540e6",
   "metadata": {},
   "source": [
    "Random Forest\n",
    "1a. Class Weight + RandomizedSearchCV\n",
    "1b. Oversampling + RandomizedSearchCV\n",
    "1c. SMOTE + RandomizedSearchCV"
   ]
  },
  {
   "cell_type": "code",
   "execution_count": 32,
   "id": "f653141b",
   "metadata": {},
   "outputs": [],
   "source": [
    "#1a. Class weight + RandomizedSearchCV\n",
    "grid_values_rf = {\n",
    "    'bootstrap': [True, False],\n",
    "    'min_samples_leaf': [1,2,4,8],\n",
    "    'min_samples_split' : [2,4,5,10],\n",
    "    'max_depth': [5,10,15,20],\n",
    "    'criterion': ['gini','entropy'], \n",
    "    'n_estimators': [10, 50, 100, 150, 200, 300]}\n",
    "\n",
    "\n",
    "rf_balanced = RandomForestClassifier(class_weight = 'balanced')\n",
    "grid_rf_weight = RandomizedSearchCV(rf_balanced, param_distributions = grid_values_rf, cv=3,\n",
    "                                    scoring=['precision','recall','f1', 'roc_auc'],\n",
    "                                    n_jobs= -1, refit = 'recall',\n",
    "                                    return_train_score = True,\n",
    "                                    n_iter = 10)\n",
    "grid_rf_weight.fit(X_train, y_train)\n",
    "\n",
    "rf_grid_pred_weight = grid_rf_weight.predict(X_test)\n",
    "rf_grid_best_para_weight = grid_rf_weight.best_params_"
   ]
  },
  {
   "cell_type": "code",
   "execution_count": 33,
   "id": "233c118a",
   "metadata": {},
   "outputs": [
    {
     "name": "stdout",
     "output_type": "stream",
     "text": [
      "{'n_estimators': 150, 'min_samples_split': 2, 'min_samples_leaf': 8, 'max_depth': 5, 'criterion': 'gini', 'bootstrap': True}\n"
     ]
    }
   ],
   "source": [
    "print(rf_grid_best_para_weight)"
   ]
  },
  {
   "cell_type": "code",
   "execution_count": 34,
   "id": "ff8f5ab1",
   "metadata": {},
   "outputs": [
    {
     "name": "stdout",
     "output_type": "stream",
     "text": [
      "{'bootstrap': True, 'ccp_alpha': 0.0, 'class_weight': 'balanced', 'criterion': 'gini', 'max_depth': 5, 'max_features': 'sqrt', 'max_leaf_nodes': None, 'max_samples': None, 'min_impurity_decrease': 0.0, 'min_samples_leaf': 8, 'min_samples_split': 2, 'min_weight_fraction_leaf': 0.0, 'n_estimators': 150, 'n_jobs': None, 'oob_score': False, 'random_state': None, 'verbose': 0, 'warm_start': False}\n"
     ]
    }
   ],
   "source": [
    "print(grid_rf_weight.best_estimator_.get_params())"
   ]
  },
  {
   "cell_type": "code",
   "execution_count": 35,
   "id": "d8a6df17",
   "metadata": {},
   "outputs": [
    {
     "name": "stdout",
     "output_type": "stream",
     "text": [
      "              precision    recall  f1-score   support\n",
      "\n",
      "         0.0       0.97      0.68      0.80    104283\n",
      "         1.0       0.19      0.81      0.31     10062\n",
      "\n",
      "    accuracy                           0.69    114345\n",
      "   macro avg       0.58      0.74      0.55    114345\n",
      "weighted avg       0.90      0.69      0.75    114345\n",
      "\n"
     ]
    }
   ],
   "source": [
    "print(classification_report(y_test, rf_grid_pred_weight))"
   ]
  },
  {
   "cell_type": "code",
   "execution_count": 36,
   "id": "541210e1",
   "metadata": {},
   "outputs": [
    {
     "data": {
      "text/plain": [
       "<AxesSubplot:>"
      ]
     },
     "execution_count": 36,
     "metadata": {},
     "output_type": "execute_result"
    },
    {
     "data": {
      "image/png": "[encoded data removed]",
      "text/plain": [
       "<Figure size 640x480 with 2 Axes>"
      ]
     },
     "metadata": {},
     "output_type": "display_data"
    },
    {
     "name": "stdout",
     "output_type": "stream",
     "text": [
      "[CV] END ................................C=0.001, penalty=l1; total time=   4.1s\n",
      "[CV] END ................................C=0.001, penalty=l1; total time=   2.9s\n",
      "[CV] END .................................C=0.01, penalty=l1; total time=   3.4s\n",
      "[CV] END .................................C=0.01, penalty=l2; total time=   2.9s\n",
      "[CV] END .................................C=0.01, penalty=l2; total time=   3.9s\n",
      "[CV] END ..................................C=0.1, penalty=l1; total time=   3.5s\n",
      "[CV] END ..................................C=0.1, penalty=l2; total time=   2.9s\n",
      "[CV] END ....................................C=1, penalty=l1; total time=   2.9s\n",
      "[CV] END ....................................C=1, penalty=l1; total time=   3.2s\n",
      "[CV] END ....................................C=1, penalty=l2; total time=   2.8s\n",
      "[CV] END ...................................C=10, penalty=l1; total time=   4.0s\n",
      "[CV] END ...................................C=10, penalty=l2; total time=   3.1s\n",
      "[CV] END ..................................C=100, penalty=l1; total time=   3.5s\n",
      "[CV] END ..................................C=100, penalty=l1; total time=   3.0s\n",
      "[CV] END ..................................C=100, penalty=l2; total time=   2.2s\n",
      "[CV] END .................................C=1000, penalty=l1; total time=   3.5s\n",
      "[CV] END .................................C=1000, penalty=l2; total time=   2.7s\n",
      "[CV] END ................................C=0.001, penalty=l1; total time=   3.3s\n",
      "[CV] END ................................C=0.001, penalty=l1; total time=   2.4s\n",
      "[CV] END ................................C=0.001, penalty=l2; total time=   2.1s\n",
      "[CV] END .................................C=0.01, penalty=l1; total time=   3.1s\n",
      "[CV] END .................................C=0.01, penalty=l2; total time=   2.0s\n",
      "[CV] END ..................................C=0.1, penalty=l1; total time=   4.3s\n",
      "[CV] END ..................................C=0.1, penalty=l2; total time=   2.3s\n",
      "[CV] END ..................................C=0.1, penalty=l2; total time=   3.1s\n",
      "[CV] END ....................................C=1, penalty=l1; total time=   4.0s\n",
      "[CV] END ....................................C=1, penalty=l2; total time=   2.2s\n",
      "[CV] END ...................................C=10, penalty=l1; total time=   4.3s\n",
      "[CV] END ...................................C=10, penalty=l2; total time=   2.7s\n",
      "[CV] END ...................................C=10, penalty=l2; total time=   3.0s\n",
      "[CV] END ..................................C=100, penalty=l1; total time=   2.6s\n",
      "[CV] END ..................................C=100, penalty=l2; total time=   2.1s\n",
      "[CV] END .................................C=1000, penalty=l1; total time=   4.1s\n",
      "[CV] END .................................C=1000, penalty=l2; total time=   2.4s\n",
      "[CV] END .................................C=1000, penalty=l2; total time=   1.4s\n",
      "[CV] END ................................C=0.001, penalty=l1; total time=   4.3s\n",
      "[CV] END ................................C=0.001, penalty=l2; total time=   2.6s\n",
      "[CV] END ................................C=0.001, penalty=l2; total time=   2.8s\n",
      "[CV] END .................................C=0.01, penalty=l1; total time=   3.0s\n",
      "[CV] END .................................C=0.01, penalty=l2; total time=   3.7s\n",
      "[CV] END ..................................C=0.1, penalty=l1; total time=   3.7s\n",
      "[CV] END ..................................C=0.1, penalty=l1; total time=   3.2s\n",
      "[CV] END ..................................C=0.1, penalty=l2; total time=   2.7s\n",
      "[CV] END ....................................C=1, penalty=l1; total time=   3.3s\n",
      "[CV] END ....................................C=1, penalty=l2; total time=   2.9s\n",
      "[CV] END ...................................C=10, penalty=l1; total time=   4.2s\n",
      "[CV] END ...................................C=10, penalty=l2; total time=   3.1s\n",
      "[CV] END ..................................C=100, penalty=l1; total time=   3.5s\n",
      "[CV] END ..................................C=100, penalty=l2; total time=   2.6s\n",
      "[CV] END ..................................C=100, penalty=l2; total time=   2.1s\n",
      "[CV] END .................................C=1000, penalty=l1; total time=   3.5s\n",
      "[CV] END .................................C=1000, penalty=l2; total time=   2.5s\n",
      "[CV] END .................................C=1000, penalty=l2; total time=   1.6s\n",
      "[CV] END ................................C=0.001, penalty=l1; total time=   3.4s\n",
      "[CV] END ................................C=0.001, penalty=l2; total time=   2.3s\n",
      "[CV] END .................................C=0.01, penalty=l1; total time=   2.2s\n",
      "[CV] END .................................C=0.01, penalty=l1; total time=   3.0s\n",
      "[CV] END .................................C=0.01, penalty=l2; total time=   2.0s\n",
      "[CV] END ..................................C=0.1, penalty=l1; total time=   4.3s\n",
      "[CV] END ..................................C=0.1, penalty=l2; total time=   2.3s\n",
      "[CV] END ....................................C=1, penalty=l1; total time=   3.1s\n",
      "[CV] END ....................................C=1, penalty=l1; total time=   3.5s\n",
      "[CV] END ....................................C=1, penalty=l2; total time=   2.1s\n",
      "[CV] END ...................................C=10, penalty=l1; total time=   4.5s\n",
      "[CV] END ...................................C=10, penalty=l2; total time=   2.8s\n",
      "[CV] END ..................................C=100, penalty=l1; total time=   3.1s\n",
      "[CV] END ..................................C=100, penalty=l2; total time=   2.4s\n",
      "[CV] END ..................................C=100, penalty=l2; total time=   2.2s\n",
      "[CV] END .................................C=1000, penalty=l1; total time=   3.5s\n",
      "[CV] END .................................C=1000, penalty=l2; total time=   2.5s\n",
      "[CV] END ................................C=0.001, penalty=l1; total time=   4.4s\n",
      "[CV] END ................................C=0.001, penalty=l2; total time=   2.5s\n",
      "[CV] END .................................C=0.01, penalty=l1; total time=   3.3s\n",
      "[CV] END .................................C=0.01, penalty=l1; total time=   3.2s\n",
      "[CV] END .................................C=0.01, penalty=l2; total time=   4.0s\n",
      "[CV] END ..................................C=0.1, penalty=l1; total time=   3.6s\n",
      "[CV] END ..................................C=0.1, penalty=l2; total time=   2.7s\n",
      "[CV] END ....................................C=1, penalty=l1; total time=   3.0s\n",
      "[CV] END ....................................C=1, penalty=l2; total time=   2.8s\n",
      "[CV] END ....................................C=1, penalty=l2; total time=   2.8s\n",
      "[CV] END ...................................C=10, penalty=l1; total time=   3.9s\n",
      "[CV] END ...................................C=10, penalty=l2; total time=   3.1s\n",
      "[CV] END ...................................C=10, penalty=l2; total time=   3.0s\n",
      "[CV] END ..................................C=100, penalty=l1; total time=   3.2s\n",
      "[CV] END ..................................C=100, penalty=l2; total time=   2.1s\n",
      "[CV] END .................................C=1000, penalty=l1; total time=   3.5s\n",
      "[CV] END .................................C=1000, penalty=l1; total time=   2.7s\n",
      "[CV] END ................................C=0.001, penalty=l1; total time=   3.4s\n",
      "[CV] END ................................C=0.001, penalty=l2; total time=   2.2s\n",
      "[CV] END ................................C=0.001, penalty=l2; total time=   2.1s\n",
      "[CV] END .................................C=0.01, penalty=l1; total time=   3.0s\n",
      "[CV] END .................................C=0.01, penalty=l2; total time=   2.0s\n",
      "[CV] END ..................................C=0.1, penalty=l1; total time=   4.0s\n",
      "[CV] END ..................................C=0.1, penalty=l1; total time=   2.5s\n",
      "[CV] END ..................................C=0.1, penalty=l2; total time=   3.1s\n",
      "[CV] END ....................................C=1, penalty=l1; total time=   3.8s\n",
      "[CV] END ....................................C=1, penalty=l2; total time=   2.0s\n",
      "[CV] END ...................................C=10, penalty=l1; total time=   3.6s\n",
      "[CV] END ...................................C=10, penalty=l1; total time=   3.0s\n",
      "[CV] END ...................................C=10, penalty=l2; total time=   2.7s\n",
      "[CV] END ..................................C=100, penalty=l1; total time=   2.6s\n",
      "[CV] END ..................................C=100, penalty=l2; total time=   2.2s\n",
      "[CV] END .................................C=1000, penalty=l1; total time=   4.0s\n",
      "[CV] END .................................C=1000, penalty=l1; total time=   2.8s\n",
      "[CV] END .................................C=1000, penalty=l2; total time=   1.4s\n"
     ]
    },
    {
     "name": "stdout",
     "output_type": "stream",
     "text": [
      "[CV] END ................................C=0.001, penalty=l1; total time=   4.2s\n",
      "[CV] END ................................C=0.001, penalty=l2; total time=   2.5s\n",
      "[CV] END ................................C=0.001, penalty=l2; total time=   2.5s\n",
      "[CV] END .................................C=0.01, penalty=l1; total time=   3.3s\n",
      "[CV] END .................................C=0.01, penalty=l2; total time=   3.7s\n",
      "[CV] END ..................................C=0.1, penalty=l1; total time=   3.8s\n",
      "[CV] END ..................................C=0.1, penalty=l2; total time=   2.8s\n",
      "[CV] END ..................................C=0.1, penalty=l2; total time=   2.6s\n",
      "[CV] END ....................................C=1, penalty=l1; total time=   3.0s\n",
      "[CV] END ....................................C=1, penalty=l2; total time=   2.3s\n",
      "[CV] END ...................................C=10, penalty=l1; total time=   4.2s\n",
      "[CV] END ...................................C=10, penalty=l1; total time=   3.6s\n",
      "[CV] END ...................................C=10, penalty=l2; total time=   3.0s\n",
      "[CV] END ..................................C=100, penalty=l1; total time=   3.2s\n",
      "[CV] END ..................................C=100, penalty=l2; total time=   2.1s\n",
      "[CV] END .................................C=1000, penalty=l1; total time=   3.5s\n",
      "[CV] END .................................C=1000, penalty=l2; total time=   2.4s\n",
      "[CV] END .................................C=1000, penalty=l2; total time=   1.7s\n",
      "[CV] END ................................C=0.001, penalty=l1; total time=   3.4s\n",
      "[CV] END ................................C=0.001, penalty=l2; total time=   2.3s\n",
      "[CV] END .................................C=0.01, penalty=l1; total time=   2.4s\n",
      "[CV] END .................................C=0.01, penalty=l2; total time=   2.8s\n",
      "[CV] END .................................C=0.01, penalty=l2; total time=   2.0s\n",
      "[CV] END ..................................C=0.1, penalty=l1; total time=   4.5s\n",
      "[CV] END ..................................C=0.1, penalty=l2; total time=   2.4s\n",
      "[CV] END ....................................C=1, penalty=l1; total time=   3.0s\n",
      "[CV] END ....................................C=1, penalty=l2; total time=   3.0s\n",
      "[CV] END ....................................C=1, penalty=l2; total time=   2.2s\n",
      "[CV] END ...................................C=10, penalty=l1; total time=   4.3s\n",
      "[CV] END ...................................C=10, penalty=l2; total time=   2.9s\n",
      "[CV] END ..................................C=100, penalty=l1; total time=   3.2s\n",
      "[CV] END ..................................C=100, penalty=l1; total time=   2.7s\n",
      "[CV] END ..................................C=100, penalty=l2; total time=   2.2s\n",
      "[CV] END .................................C=1000, penalty=l1; total time=   3.7s\n",
      "[CV] END .................................C=1000, penalty=l2; total time=   2.5s\n"
     ]
    }
   ],
   "source": [
    "cf_matrix_rf_weight = confusion_matrix(y_test, rf_grid_pred_weight)\n",
    "sns.heatmap(cf_matrix_rf_weight/np.sum(cf_matrix_rf_weight), annot=True, \n",
    "            fmt='.2%', cmap='Blues')"
   ]
  },
  {
   "cell_type": "code",
   "execution_count": 37,
   "id": "1505b567",
   "metadata": {},
   "outputs": [
    {
     "name": "stdout",
     "output_type": "stream",
     "text": [
      "Random Forest (Test) Class Weight: Accuracy: 0.687455\n",
      "Random Forest (Test) Class Weight: Precision: 0.193399\n",
      "Random Forest (Test) Class Weight: Recall : 0.804810\n",
      "Random Forest (Test) Class Weight: F1 : 0.311857\n",
      "Random Forest (Test) Class Weight: Roc : 0.811824\n"
     ]
    }
   ],
   "source": [
    "#retrain using best hyperparameters , test \n",
    "rf_weight_2 = RandomForestClassifier(bootstrap = True, ccp_alpha = 0.0, class_weight = 'balanced',\n",
    "                                     criterion= 'gini', max_depth = 5, max_features = 'sqrt', \n",
    "                                     max_leaf_nodes =  None, max_samples = None, \n",
    "                                     min_impurity_decrease = 0.0, min_samples_leaf = 8, \n",
    "                                     min_samples_split = 2, min_weight_fraction_leaf = 0.0, \n",
    "                                     n_estimators = 150, n_jobs = None, oob_score = False, \n",
    "                                     random_state = None, verbose = 0, warm_start = False)\n",
    "\n",
    "rf_weight_2.fit(X_train, y_train)\n",
    "rf_pred_weight_2 = rf_weight_2.predict(X_test)\n",
    "\n",
    "rf_acc_weight = rf_weight_2.score(X_test, y_test)\n",
    "rf_precision_weight= precision_score(y_test, rf_pred_weight_2)\n",
    "rf_recall_weight = recall_score(y_test, rf_pred_weight_2)\n",
    "rf_f1_weight = f1_score(y_test, rf_pred_weight_2)\n",
    "\n",
    "rf_fpr_weight, rf_tpr_weight, rf_thresholds_weight = roc_curve(y_test, rf_weight_2.predict_proba(X_test)[:,1])\n",
    "roc_auc_rf_weight = auc(rf_fpr_weight,rf_tpr_weight)\n",
    "\n",
    "print(f'Random Forest (Test) Class Weight: Accuracy: {rf_acc_weight:.6f}')\n",
    "print(f'Random Forest (Test) Class Weight: Precision: {rf_precision_weight:.6f}')\n",
    "print(f'Random Forest (Test) Class Weight: Recall : {rf_recall_weight:.6f}')\n",
    "print(f'Random Forest (Test) Class Weight: F1 : {rf_f1_weight:.6f}')\n",
    "print(f'Random Forest (Test) Class Weight: Roc : {roc_auc_rf_weight:.6f}')"
   ]
  },
  {
   "cell_type": "markdown",
   "id": "cde3e8f8",
   "metadata": {},
   "source": [
    "Random Forest 1b Oversampling + RandomizedSearchCV "
   ]
  },
  {
   "cell_type": "code",
   "execution_count": 38,
   "id": "5c3acd6a",
   "metadata": {},
   "outputs": [],
   "source": [
    "n_pos = np.sum(y_train == 1)\n",
    "n_neg = np.sum(y_train == 0)\n",
    "\n",
    "imb_ratio = int(n_neg/n_pos)\n",
    "ratio = {1 : n_pos * imb_ratio, 0 : n_neg} \n",
    "\n",
    "ros = imblearn.over_sampling.RandomOverSampler(sampling_strategy= ratio, random_state = 44)\n",
    "X_train_rs_ns, y_train_rs_ns = ros.fit_resample(X_train, y_train)"
   ]
  },
  {
   "cell_type": "code",
   "execution_count": 39,
   "id": "ff1a0a2d",
   "metadata": {},
   "outputs": [],
   "source": [
    "#1b. Oversampling + RandomizedSearchCV \n",
    "grid_values_rf = {\n",
    "    'bootstrap': [True, False],\n",
    "    'min_samples_leaf': [1,2,4,8],\n",
    "    'min_samples_split' : [2,4,5,10],\n",
    "    'max_depth': [5,10,15,20],\n",
    "    'criterion': ['gini','entropy'], \n",
    "    'n_estimators': [10, 50, 100, 150, 200, 300]}\n",
    "\n",
    "\n",
    "rf_os = RandomForestClassifier()\n",
    "grid_rf_os = RandomizedSearchCV(rf_os, param_distributions = grid_values_rf,\n",
    "                                cv=3,scoring=['precision','recall','f1', 'roc_auc'],\n",
    "                                n_jobs= -1,refit = 'recall',return_train_score = True, \n",
    "                                n_iter = 10)\n",
    "grid_rf_os.fit(X_train_rs_ns, y_train_rs_ns)\n",
    "\n",
    "rf_grid_pred_os = grid_rf_os.predict(X_test)\n",
    "rf_grid_best_para_os = grid_rf_os.best_params_"
   ]
  },
  {
   "cell_type": "code",
   "execution_count": 40,
   "id": "19b96102",
   "metadata": {},
   "outputs": [
    {
     "name": "stdout",
     "output_type": "stream",
     "text": [
      "{'n_estimators': 300, 'min_samples_split': 5, 'min_samples_leaf': 1, 'max_depth': 15, 'criterion': 'entropy', 'bootstrap': True}\n"
     ]
    }
   ],
   "source": [
    "print(rf_grid_best_para_os)"
   ]
  },
  {
   "cell_type": "code",
   "execution_count": 41,
   "id": "4eec60aa",
   "metadata": {},
   "outputs": [
    {
     "name": "stdout",
     "output_type": "stream",
     "text": [
      "RandomForestClassifier(criterion='entropy', max_depth=15, min_samples_split=5,\n",
      "                       n_estimators=300)\n"
     ]
    }
   ],
   "source": [
    "rf_grid_best_estimator_os = grid_rf_os.best_estimator_\n",
    "print(rf_grid_best_estimator_os)\n"
   ]
  },
  {
   "cell_type": "code",
   "execution_count": 42,
   "id": "fe9b7422",
   "metadata": {},
   "outputs": [
    {
     "name": "stdout",
     "output_type": "stream",
     "text": [
      "{'bootstrap': True, 'ccp_alpha': 0.0, 'class_weight': None, 'criterion': 'entropy', 'max_depth': 15, 'max_features': 'sqrt', 'max_leaf_nodes': None, 'max_samples': None, 'min_impurity_decrease': 0.0, 'min_samples_leaf': 1, 'min_samples_split': 5, 'min_weight_fraction_leaf': 0.0, 'n_estimators': 300, 'n_jobs': None, 'oob_score': False, 'random_state': None, 'verbose': 0, 'warm_start': False}\n"
     ]
    }
   ],
   "source": [
    "print(grid_rf_os.best_estimator_.get_params())"
   ]
  },
  {
   "cell_type": "code",
   "execution_count": 43,
   "id": "49f95a24",
   "metadata": {},
   "outputs": [
    {
     "name": "stdout",
     "output_type": "stream",
     "text": [
      "              precision    recall  f1-score   support\n",
      "\n",
      "         0.0       0.96      0.76      0.85    104283\n",
      "         1.0       0.22      0.69      0.33     10062\n",
      "\n",
      "    accuracy                           0.75    114345\n",
      "   macro avg       0.59      0.72      0.59    114345\n",
      "weighted avg       0.90      0.75      0.80    114345\n",
      "\n"
     ]
    }
   ],
   "source": [
    "print(classification_report(y_test, rf_grid_pred_os))"
   ]
  },
  {
   "cell_type": "code",
   "execution_count": 44,
   "id": "e4cc8ebd",
   "metadata": {},
   "outputs": [
    {
     "data": {
      "text/plain": [
       "<AxesSubplot:>"
      ]
     },
     "execution_count": 44,
     "metadata": {},
     "output_type": "execute_result"
    },
    {
     "data": {
      "image/png": "[encoded data removed]",
      "text/plain": [
       "<Figure size 640x480 with 2 Axes>"
      ]
     },
     "metadata": {},
     "output_type": "display_data"
    }
   ],
   "source": [
    "cf_matrix_rf_os = confusion_matrix(y_test, rf_grid_pred_os)\n",
    "sns.heatmap(cf_matrix_rf_os/np.sum(cf_matrix_rf_os), annot=True, \n",
    "            fmt='.2%', cmap='Blues')"
   ]
  },
  {
   "cell_type": "code",
   "execution_count": 45,
   "id": "b1a21e89",
   "metadata": {},
   "outputs": [
    {
     "name": "stdout",
     "output_type": "stream",
     "text": [
      "Random Forest (Test) Oversampling: Accuracy: 0.753745\n",
      "Random Forest (Test) Oversampling: Precision: 0.216506\n",
      "Random Forest (Test) Oversampling: Recall : 0.686742\n",
      "Random Forest (Test) Oversampling: F1 : 0.329220\n",
      "Random Forest (Test) Oversampling: Roc : 0.803013\n"
     ]
    }
   ],
   "source": [
    "#train using best hyperparameters , test \n",
    "rf_os_2 = RandomForestClassifier(bootstrap = True, ccp_alpha = 0.0, \n",
    "                                 class_weight = None, criterion = 'entropy', \n",
    "                                 max_depth = 15, max_features = 'sqrt',\n",
    "                                 max_leaf_nodes = None, max_samples = None,\n",
    "                                 min_impurity_decrease= 0.0, min_samples_leaf = 1,\n",
    "                                 min_samples_split = 5, min_weight_fraction_leaf = 0.0,\n",
    "                                 n_estimators = 300, n_jobs = None, oob_score = False,\n",
    "                                 random_state= None, verbose = 0, warm_start = False)\n",
    "\n",
    "\n",
    "\n",
    "rf_os_2.fit(X_train_rs_ns, y_train_rs_ns)\n",
    "rf_pred_os_2 = rf_os_2.predict(X_test)\n",
    "\n",
    "rf_acc_os = rf_os_2.score(X_test, y_test)\n",
    "rf_precision_os= precision_score(y_test, rf_pred_os_2)\n",
    "rf_recall_os = recall_score(y_test, rf_pred_os_2)\n",
    "rf_f1_os = f1_score(y_test, rf_pred_os_2)\n",
    "\n",
    "rf_fpr_os, rf_tpr_os, rf_thresholds_os = roc_curve(y_test, rf_os_2.predict_proba(X_test)[:,1])\n",
    "roc_auc_rf_os = auc(rf_fpr_os,rf_tpr_os)\n",
    "\n",
    "print(f'Random Forest (Test) Oversampling: Accuracy: {rf_acc_os:.6f}')\n",
    "print(f'Random Forest (Test) Oversampling: Precision: {rf_precision_os:.6f}')\n",
    "print(f'Random Forest (Test) Oversampling: Recall : {rf_recall_os:.6f}')\n",
    "print(f'Random Forest (Test) Oversampling: F1 : {rf_f1_os:.6f}')\n",
    "print(f'Random Forest (Test) Oversampling: Roc : {roc_auc_rf_os:.6f}')"
   ]
  },
  {
   "cell_type": "markdown",
   "id": "2beefd5a",
   "metadata": {},
   "source": [
    "Random Forest 1c. SMOTE + RandomizedSearchCV "
   ]
  },
  {
   "cell_type": "code",
   "execution_count": 46,
   "id": "a1ea888d",
   "metadata": {},
   "outputs": [],
   "source": [
    "n_pos = np.sum(y_train == 1)\n",
    "n_neg = np.sum(y_train == 0)\n",
    "\n",
    "imb_ratio = int(n_neg/n_pos)\n",
    "ratio = {1 : n_pos * imb_ratio, 0 : n_neg} \n",
    "\n",
    "smote = imblearn.over_sampling.SMOTE(sampling_strategy=ratio, random_state = 42)\n",
    "   \n",
    "X_train_smote_ns, y_train_smote_ns = smote.fit_resample(X_train, y_train)"
   ]
  },
  {
   "cell_type": "code",
   "execution_count": 59,
   "id": "c0cda11e",
   "metadata": {},
   "outputs": [
    {
     "name": "stdout",
     "output_type": "stream",
     "text": [
      "Fitting 3 folds for each of 10 candidates, totalling 30 fits\n",
      "[CV] END bootstrap=True, max_depth=10, min_samples_leaf=1, min_samples_split=10, n_estimators=50; total time=  40.0s\n",
      "[CV] END bootstrap=True, max_depth=10, min_samples_leaf=1, min_samples_split=10, n_estimators=50; total time=  32.9s\n",
      "[CV] END bootstrap=True, max_depth=10, min_samples_leaf=1, min_samples_split=10, n_estimators=50; total time=  31.8s\n",
      "[CV] END bootstrap=True, max_depth=5, min_samples_leaf=1, min_samples_split=4, n_estimators=200; total time= 1.5min\n",
      "[CV] END bootstrap=True, max_depth=5, min_samples_leaf=1, min_samples_split=4, n_estimators=200; total time= 1.3min\n",
      "[CV] END bootstrap=False, max_depth=20, min_samples_leaf=8, min_samples_split=5, n_estimators=200; total time= 3.2min\n",
      "[CV] END bootstrap=True, max_depth=20, min_samples_leaf=1, min_samples_split=10, n_estimators=200; total time= 3.0min\n",
      "[CV] END bootstrap=True, max_depth=10, min_samples_leaf=1, min_samples_split=5, n_estimators=50; total time=  34.5s\n",
      "[CV] END bootstrap=True, max_depth=10, min_samples_leaf=1, min_samples_split=5, n_estimators=50; total time=  35.6s\n",
      "[CV] END bootstrap=True, max_depth=10, min_samples_leaf=1, min_samples_split=5, n_estimators=50; total time=  33.5s\n",
      "[CV] END bootstrap=True, max_depth=5, min_samples_leaf=8, min_samples_split=10, n_estimators=200; total time= 1.5min\n",
      "[CV] END bootstrap=False, max_depth=15, min_samples_leaf=2, min_samples_split=10, n_estimators=150; total time= 2.2min\n",
      "[CV] END bootstrap=True, max_depth=5, min_samples_leaf=1, min_samples_split=4, n_estimators=200; total time= 1.4min\n",
      "[CV] END bootstrap=False, max_depth=20, min_samples_leaf=8, min_samples_split=5, n_estimators=200; total time= 3.2min\n",
      "[CV] END bootstrap=False, max_depth=10, min_samples_leaf=2, min_samples_split=10, n_estimators=100; total time= 1.2min\n",
      "[CV] END bootstrap=True, max_depth=10, min_samples_leaf=8, min_samples_split=2, n_estimators=300; total time= 3.3min\n",
      "[CV] END bootstrap=True, max_depth=5, min_samples_leaf=8, min_samples_split=10, n_estimators=200; total time= 1.5min\n",
      "[CV] END bootstrap=False, max_depth=15, min_samples_leaf=2, min_samples_split=10, n_estimators=150; total time= 2.2min\n",
      "[CV] END bootstrap=False, max_depth=5, min_samples_leaf=8, min_samples_split=4, n_estimators=100; total time=  42.9s\n",
      "[CV] END bootstrap=False, max_depth=5, min_samples_leaf=8, min_samples_split=4, n_estimators=100; total time=  44.1s\n",
      "[CV] END bootstrap=True, max_depth=20, min_samples_leaf=1, min_samples_split=10, n_estimators=200; total time= 2.9min\n",
      "[CV] END bootstrap=False, max_depth=10, min_samples_leaf=2, min_samples_split=10, n_estimators=100; total time= 1.2min\n",
      "[CV] END bootstrap=False, max_depth=10, min_samples_leaf=2, min_samples_split=10, n_estimators=100; total time= 1.2min\n",
      "[CV] END bootstrap=True, max_depth=10, min_samples_leaf=8, min_samples_split=2, n_estimators=300; total time= 3.0min\n",
      "[CV] END bootstrap=True, max_depth=5, min_samples_leaf=8, min_samples_split=10, n_estimators=200; total time= 1.5min\n",
      "[CV] END bootstrap=False, max_depth=15, min_samples_leaf=2, min_samples_split=10, n_estimators=150; total time= 2.2min\n",
      "[CV] END bootstrap=False, max_depth=5, min_samples_leaf=8, min_samples_split=4, n_estimators=100; total time=  44.3s\n",
      "[CV] END bootstrap=False, max_depth=20, min_samples_leaf=8, min_samples_split=5, n_estimators=200; total time= 3.2min\n",
      "[CV] END bootstrap=True, max_depth=20, min_samples_leaf=1, min_samples_split=10, n_estimators=200; total time= 2.9min\n",
      "[CV] END bootstrap=True, max_depth=10, min_samples_leaf=8, min_samples_split=2, n_estimators=300; total time= 2.9min\n"
     ]
    }
   ],
   "source": [
    "grid_values_rf = {\n",
    "    'bootstrap': [True, False],\n",
    "    'min_samples_leaf': [1,2,4,8],\n",
    "    'min_samples_split' : [2,4,5,10],\n",
    "    'max_depth': [5,10,15,20],\n",
    "    'n_estimators': [10, 50, 100, 150, 200, 300]}\n",
    "\n",
    "\n",
    "rf_smote = RandomForestClassifier()\n",
    "grid_rf_smote_2 = RandomizedSearchCV(rf_smote, param_distributions = grid_values_rf,\n",
    "                                    cv=3, scoring=['precision','recall','f1', 'roc_auc'],\n",
    "                                    n_jobs= -1, verbose = 2, refit = 'recall',\n",
    "                                    return_train_score = True, \n",
    "                                    n_iter = 10)\n",
    "grid_rf_smote_2.fit(X_train_smote_ns, y_train_smote_ns)\n",
    "\n",
    "rf_grid_pred_smote_2 = grid_rf_smote_2.predict(X_test)\n",
    "rf_grid_best_para_smote_2= grid_rf_smote_2.best_params_"
   ]
  },
  {
   "cell_type": "code",
   "execution_count": 60,
   "id": "6ac5e4e2",
   "metadata": {},
   "outputs": [
    {
     "name": "stdout",
     "output_type": "stream",
     "text": [
      "{'bootstrap': False, 'ccp_alpha': 0.0, 'class_weight': None, 'criterion': 'gini', 'max_depth': 15, 'max_features': 'sqrt', 'max_leaf_nodes': None, 'max_samples': None, 'min_impurity_decrease': 0.0, 'min_samples_leaf': 2, 'min_samples_split': 10, 'min_weight_fraction_leaf': 0.0, 'n_estimators': 150, 'n_jobs': None, 'oob_score': False, 'random_state': None, 'verbose': 0, 'warm_start': False}\n"
     ]
    }
   ],
   "source": [
    "print(grid_rf_smote_2.best_estimator_.get_params())"
   ]
  },
  {
   "cell_type": "code",
   "execution_count": 61,
   "id": "05775a77",
   "metadata": {},
   "outputs": [
    {
     "name": "stdout",
     "output_type": "stream",
     "text": [
      "              precision    recall  f1-score   support\n",
      "\n",
      "         0.0       0.94      0.88      0.91    104283\n",
      "         1.0       0.27      0.45      0.34     10062\n",
      "\n",
      "    accuracy                           0.85    114345\n",
      "   macro avg       0.61      0.67      0.63    114345\n",
      "weighted avg       0.88      0.85      0.86    114345\n",
      "\n"
     ]
    }
   ],
   "source": [
    "print(classification_report(y_test, rf_grid_pred_smote_2))"
   ]
  },
  {
   "cell_type": "code",
   "execution_count": 62,
   "id": "48ab0a40",
   "metadata": {},
   "outputs": [
    {
     "data": {
      "text/plain": [
       "<AxesSubplot:>"
      ]
     },
     "execution_count": 62,
     "metadata": {},
     "output_type": "execute_result"
    },
    {
     "data": {
      "image/png": "[encoded data removed]",
      "text/plain": [
       "<Figure size 640x480 with 2 Axes>"
      ]
     },
     "metadata": {},
     "output_type": "display_data"
    }
   ],
   "source": [
    "cf_matrix_rf_smote_2 = confusion_matrix(y_test, rf_grid_pred_smote_2)\n",
    "sns.heatmap(cf_matrix_rf_smote_2/np.sum(cf_matrix_rf_smote_2), annot=True, \n",
    "            fmt='.2%', cmap='Blues')"
   ]
  },
  {
   "cell_type": "code",
   "execution_count": 47,
   "id": "18d11bb1",
   "metadata": {},
   "outputs": [
    {
     "name": "stdout",
     "output_type": "stream",
     "text": [
      "Fitting 3 folds for each of 10 candidates, totalling 30 fits\n"
     ]
    }
   ],
   "source": [
    "grid_values_rf = {\n",
    "    'bootstrap': [True, False],\n",
    "    'min_samples_leaf': [1,2,4,8],\n",
    "    'min_samples_split' : [2,4,5,10],\n",
    "    'max_depth': [5,10,15,20],\n",
    "    'criterion': ['gini','entropy'], \n",
    "    'n_estimators': [10, 50, 100, 150, 200, 300]}\n",
    "\n",
    "\n",
    "rf_smote = RandomForestClassifier()\n",
    "grid_rf_smote = RandomizedSearchCV(rf_smote, param_distributions = grid_values_rf,\n",
    "                                    cv=3, scoring=['precision','recall','f1', 'roc_auc'],\n",
    "                                    n_jobs= -1, verbose = 2, refit = 'recall',\n",
    "                                    return_train_score = True, random_state = 42, \n",
    "                                    n_iter = 10)\n",
    "grid_rf_smote.fit(X_train_smote_ns, y_train_smote_ns)\n",
    "\n",
    "rf_grid_pred_smote = grid_rf_smote.predict(X_test)\n",
    "rf_grid_best_para_smote = grid_rf_smote.best_params_"
   ]
  },
  {
   "cell_type": "code",
   "execution_count": 48,
   "id": "7f8d36f3",
   "metadata": {},
   "outputs": [
    {
     "name": "stdout",
     "output_type": "stream",
     "text": [
      "{'n_estimators': 150, 'min_samples_split': 5, 'min_samples_leaf': 2, 'max_depth': 20, 'criterion': 'gini', 'bootstrap': False}\n"
     ]
    }
   ],
   "source": [
    "print(rf_grid_best_para_smote)"
   ]
  },
  {
   "cell_type": "code",
   "execution_count": 49,
   "id": "e393c878",
   "metadata": {},
   "outputs": [
    {
     "name": "stdout",
     "output_type": "stream",
     "text": [
      "RandomForestClassifier(bootstrap=False, max_depth=20, min_samples_leaf=2,\n",
      "                       min_samples_split=5, n_estimators=150)\n"
     ]
    }
   ],
   "source": [
    "rf_grid_best_estimator_smote = grid_rf_smote.best_estimator_\n",
    "print(rf_grid_best_estimator_smote)"
   ]
  },
  {
   "cell_type": "code",
   "execution_count": 50,
   "id": "cb59a381",
   "metadata": {},
   "outputs": [
    {
     "name": "stdout",
     "output_type": "stream",
     "text": [
      "{'bootstrap': False, 'ccp_alpha': 0.0, 'class_weight': None, 'criterion': 'gini', 'max_depth': 20, 'max_features': 'sqrt', 'max_leaf_nodes': None, 'max_samples': None, 'min_impurity_decrease': 0.0, 'min_samples_leaf': 2, 'min_samples_split': 5, 'min_weight_fraction_leaf': 0.0, 'n_estimators': 150, 'n_jobs': None, 'oob_score': False, 'random_state': None, 'verbose': 0, 'warm_start': False}\n"
     ]
    }
   ],
   "source": [
    "print(grid_rf_smote.best_estimator_.get_params())"
   ]
  },
  {
   "cell_type": "code",
   "execution_count": 51,
   "id": "98154389",
   "metadata": {},
   "outputs": [
    {
     "name": "stdout",
     "output_type": "stream",
     "text": [
      "              precision    recall  f1-score   support\n",
      "\n",
      "         0.0       0.93      0.92      0.93    104283\n",
      "         1.0       0.28      0.33      0.31     10062\n",
      "\n",
      "    accuracy                           0.87    114345\n",
      "   macro avg       0.61      0.63      0.62    114345\n",
      "weighted avg       0.88      0.87      0.87    114345\n",
      "\n"
     ]
    }
   ],
   "source": [
    "print(classification_report(y_test, rf_grid_pred_smote))"
   ]
  },
  {
   "cell_type": "code",
   "execution_count": 52,
   "id": "6ac90271",
   "metadata": {},
   "outputs": [
    {
     "data": {
      "text/plain": [
       "<AxesSubplot:>"
      ]
     },
     "execution_count": 52,
     "metadata": {},
     "output_type": "execute_result"
    },
    {
     "data": {
      "image/png": "[encoded data removed]",
      "text/plain": [
       "<Figure size 640x480 with 2 Axes>"
      ]
     },
     "metadata": {},
     "output_type": "display_data"
    },
    {
     "name": "stdout",
     "output_type": "stream",
     "text": [
      "[CV] END bootstrap=False, criterion=gini, max_depth=20, min_samples_leaf=4, min_samples_split=10, n_estimators=200; total time= 3.4min\n",
      "[CV] END bootstrap=False, criterion=entropy, max_depth=10, min_samples_leaf=2, min_samples_split=10, n_estimators=200; total time= 2.9min\n",
      "[CV] END bootstrap=False, criterion=gini, max_depth=20, min_samples_leaf=8, min_samples_split=2, n_estimators=100; total time= 1.8min\n",
      "[CV] END bootstrap=False, criterion=gini, max_depth=15, min_samples_leaf=8, min_samples_split=5, n_estimators=10; total time=  12.2s\n",
      "[CV] END bootstrap=False, criterion=gini, max_depth=15, min_samples_leaf=8, min_samples_split=5, n_estimators=10; total time=  10.8s\n",
      "[CV] END bootstrap=False, criterion=gini, max_depth=15, min_samples_leaf=8, min_samples_split=5, n_estimators=10; total time=   9.9s\n",
      "[CV] END bootstrap=True, criterion=gini, max_depth=10, min_samples_leaf=2, min_samples_split=2, n_estimators=50; total time=  33.7s\n",
      "[CV] END bootstrap=True, criterion=gini, max_depth=10, min_samples_leaf=2, min_samples_split=2, n_estimators=50; total time=  33.8s\n",
      "[CV] END bootstrap=True, criterion=entropy, max_depth=5, min_samples_leaf=8, min_samples_split=4, n_estimators=200; total time= 1.4min\n",
      "[CV] END bootstrap=False, criterion=gini, max_depth=20, min_samples_leaf=4, min_samples_split=10, n_estimators=200; total time= 3.4min\n",
      "[CV] END bootstrap=False, criterion=gini, max_depth=5, min_samples_leaf=8, min_samples_split=10, n_estimators=100; total time=  44.8s\n",
      "[CV] END bootstrap=False, criterion=gini, max_depth=20, min_samples_leaf=8, min_samples_split=2, n_estimators=100; total time= 1.7min\n",
      "[CV] END bootstrap=False, criterion=gini, max_depth=20, min_samples_leaf=8, min_samples_split=2, n_estimators=100; total time= 1.8min\n",
      "[CV] END bootstrap=False, criterion=gini, max_depth=20, min_samples_leaf=2, min_samples_split=5, n_estimators=150; total time= 2.6min\n",
      "[CV] END bootstrap=False, criterion=entropy, max_depth=5, min_samples_leaf=8, min_samples_split=5, n_estimators=100; total time=  46.5s\n",
      "[CV] END bootstrap=False, criterion=gini, max_depth=20, min_samples_leaf=4, min_samples_split=10, n_estimators=200; total time= 3.3min\n",
      "[CV] END bootstrap=False, criterion=gini, max_depth=5, min_samples_leaf=8, min_samples_split=10, n_estimators=100; total time=  44.5s\n",
      "[CV] END bootstrap=False, criterion=entropy, max_depth=10, min_samples_leaf=2, min_samples_split=10, n_estimators=200; total time= 3.0min\n",
      "[CV] END bootstrap=False, criterion=gini, max_depth=20, min_samples_leaf=2, min_samples_split=5, n_estimators=150; total time= 2.7min\n",
      "[CV] END bootstrap=True, criterion=entropy, max_depth=5, min_samples_leaf=8, min_samples_split=4, n_estimators=200; total time= 1.5min\n",
      "[CV] END bootstrap=False, criterion=entropy, max_depth=5, min_samples_leaf=8, min_samples_split=5, n_estimators=100; total time=  29.2s\n",
      "[CV] END bootstrap=False, criterion=entropy, max_depth=20, min_samples_leaf=1, min_samples_split=10, n_estimators=50; total time=  59.4s\n",
      "[CV] END bootstrap=False, criterion=entropy, max_depth=20, min_samples_leaf=1, min_samples_split=10, n_estimators=50; total time=  57.0s\n",
      "[CV] END bootstrap=False, criterion=entropy, max_depth=20, min_samples_leaf=1, min_samples_split=10, n_estimators=50; total time=  54.4s\n",
      "[CV] END bootstrap=False, criterion=gini, max_depth=5, min_samples_leaf=8, min_samples_split=10, n_estimators=100; total time=  45.0s\n",
      "[CV] END bootstrap=False, criterion=entropy, max_depth=10, min_samples_leaf=2, min_samples_split=10, n_estimators=200; total time= 2.9min\n",
      "[CV] END bootstrap=False, criterion=gini, max_depth=20, min_samples_leaf=2, min_samples_split=5, n_estimators=150; total time= 2.7min\n",
      "[CV] END bootstrap=True, criterion=gini, max_depth=10, min_samples_leaf=2, min_samples_split=2, n_estimators=50; total time=  35.0s\n",
      "[CV] END bootstrap=True, criterion=entropy, max_depth=5, min_samples_leaf=8, min_samples_split=4, n_estimators=200; total time= 1.4min\n",
      "[CV] END bootstrap=False, criterion=entropy, max_depth=5, min_samples_leaf=8, min_samples_split=5, n_estimators=100; total time=  30.2s\n"
     ]
    }
   ],
   "source": [
    "cf_matrix_rf_smote = confusion_matrix(y_test, rf_grid_pred_smote)\n",
    "sns.heatmap(cf_matrix_rf_smote/np.sum(cf_matrix_rf_smote), annot=True, \n",
    "            fmt='.2%', cmap='Blues')"
   ]
  },
  {
   "cell_type": "code",
   "execution_count": 63,
   "id": "e9c61634",
   "metadata": {},
   "outputs": [
    {
     "name": "stdout",
     "output_type": "stream",
     "text": [
      "Random Forest (Test) SMOTE: Accuracy: 0.867515\n",
      "Random Forest (Test) SMOTE: Precision: 0.284868\n",
      "Random Forest (Test) SMOTE: Recall : 0.334725\n",
      "Random Forest (Test) SMOTE: F1 : 0.307791\n",
      "Random Forest (Test) SMOTE: Roc : 0.794651\n"
     ]
    }
   ],
   "source": [
    "#train using best hyperparameters , test \n",
    "rf_smote_2 = RandomForestClassifier(bootstrap = False, ccp_alpha = 0.0, \n",
    "                                    class_weight = None, criterion = 'entropy', \n",
    "                                    max_depth = 20, max_features = 'sqrt',\n",
    "                                    max_leaf_nodes = None, max_samples = None,\n",
    "                                    min_impurity_decrease = 0.0, min_samples_leaf = 2,\n",
    "                                    min_samples_split = 5, min_weight_fraction_leaf = 0.0, \n",
    "                                    n_estimators = 150, n_jobs = None, oob_score = False, \n",
    "                                    random_state = None, verbose = 0, warm_start = False)\n",
    "\n",
    "\n",
    "rf_smote_2.fit(X_train_smote_ns, y_train_smote_ns)\n",
    "rf_pred_smote_2 = rf_smote_2.predict(X_test)\n",
    "\n",
    "rf_acc_smote = rf_smote_2.score(X_test, y_test)\n",
    "rf_precision_smote= precision_score(y_test, rf_pred_smote_2)\n",
    "rf_recall_smote = recall_score(y_test, rf_pred_smote_2)\n",
    "rf_f1_smote = f1_score(y_test, rf_pred_smote_2)\n",
    "\n",
    "rf_fpr_smote, rf_tpr_smote, rf_thresholds_smote = roc_curve(y_test, rf_smote_2.predict_proba(X_test)[:,1])\n",
    "roc_auc_rf_smote = auc(rf_fpr_smote,rf_tpr_smote)\n",
    "\n",
    "print(f'Random Forest (Test) SMOTE: Accuracy: {rf_acc_smote:.6f}')\n",
    "print(f'Random Forest (Test) SMOTE: Precision: {rf_precision_smote:.6f}')\n",
    "print(f'Random Forest (Test) SMOTE: Recall : {rf_recall_smote:.6f}')\n",
    "print(f'Random Forest (Test) SMOTE: F1 : {rf_f1_smote:.6f}')\n",
    "print(f'Random Forest (Test) SMOTE: Roc : {roc_auc_rf_smote:.6f}')"
   ]
  },
  {
   "cell_type": "markdown",
   "id": "44b4595d",
   "metadata": {},
   "source": [
    "XGBoost\n"
   ]
  },
  {
   "cell_type": "markdown",
   "id": "5b02c86a",
   "metadata": {},
   "source": [
    "1a. Class weight + RandomizedSearchCV"
   ]
  },
  {
   "cell_type": "code",
   "execution_count": 54,
   "id": "5d7b9cfb",
   "metadata": {},
   "outputs": [
    {
     "name": "stdout",
     "output_type": "stream",
     "text": [
      "10.36391515461283\n"
     ]
    }
   ],
   "source": [
    "from collections import Counter\n",
    "counter = Counter(y_train)\n",
    "est= counter[0]/counter[1]\n",
    "print(est)"
   ]
  },
  {
   "cell_type": "code",
   "execution_count": null,
   "id": "a89722c0",
   "metadata": {},
   "outputs": [],
   "source": [
    "grid_values_xg = {'max_depth' : [ 3, 4, 5, 6, 8, 10, 12],\n",
    "                  'min_child_weight' : [ 1,2,3,4,5,8]}\n",
    "\n",
    "\n",
    "xgb_balanced =  XGBClassifier(scale_pos_weight = est)\n",
    "\n",
    "grid_xg_weight = RandomizedSearchCV(xg_balanced, param_distributions = grid_values_xg,\n",
    "                                    cv=3,\n",
    "                                    scoring=['precision','recall','f1', 'roc_auc'],\n",
    "                                    n_jobs= -1, refit = 'recall',\n",
    "                                    return_train_score = True,  \n",
    "                                    n_iter = 10)\n",
    "\n",
    "\n",
    "grid_xg_weight.fit(X_train, y_train)\n",
    "\n",
    "\n",
    "xg_grid_pred_weight = grid_xg_weight.predict(X_test)\n",
    "xg_grid_best_para_weight = grid_xg_weight.best_params_"
   ]
  },
  {
   "cell_type": "code",
   "execution_count": null,
   "id": "d5d6988c",
   "metadata": {},
   "outputs": [],
   "source": [
    "print(xg_grid_best_para_weight)"
   ]
  },
  {
   "cell_type": "code",
   "execution_count": null,
   "id": "df2034fe",
   "metadata": {},
   "outputs": [],
   "source": [
    "xg_grid_best_estimator_weight = grid_xg_weight.best_estimator_\n",
    "print(xg_grid_best_estimator_weight)"
   ]
  },
  {
   "cell_type": "code",
   "execution_count": null,
   "id": "08a2ec44",
   "metadata": {},
   "outputs": [],
   "source": [
    "xg_grid_best_estimator_weight = grid_xg_weight.best_estimator_\n",
    "print(xg_grid_best_estimator_weight)"
   ]
  },
  {
   "cell_type": "code",
   "execution_count": null,
   "id": "111cdf71",
   "metadata": {},
   "outputs": [],
   "source": [
    "print(classification_report(y_test, xg_grid_pred_weight))"
   ]
  },
  {
   "cell_type": "code",
   "execution_count": null,
   "id": "f7fd8a77",
   "metadata": {},
   "outputs": [],
   "source": [
    "cf_matrix_xg_weight = confusion_matrix(y_test, xg_grid_pred_weight)\n",
    "sns.heatmap(cf_matrix_xg_weight/np.sum(cf_matrix_xg_weight), annot=True, \n",
    "            fmt='.2%', cmap='Blues')"
   ]
  },
  {
   "cell_type": "code",
   "execution_count": null,
   "id": "6f33c0c1",
   "metadata": {},
   "outputs": [],
   "source": [
    "#train using best hyperparameters , test \n",
    "xg_weight_3 = XGBClassifier(base_score=0.5, booster='gbtree', callbacks=None,\n",
    "              colsample_bylevel=1, colsample_bynode=1, colsample_bytree=0.5,\n",
    "              early_stopping_rounds=None, enable_categorical=False,\n",
    "              eval_metric=None, gamma=0.0, gpu_id=-1, grow_policy='depthwise',\n",
    "              importance_type=None, interaction_constraints='',\n",
    "              learning_rate=0.3, max_bin=256, max_cat_to_onehot=4,\n",
    "              max_delta_step=0, max_depth=4, max_leaves=0, min_child_weight=1,\n",
    "             monotone_constraints='()', n_estimators=100,\n",
    "              n_jobs=0, num_parallel_tree=1, predictor='auto', random_state=0,\n",
    "              reg_alpha=0, reg_lambda=1)\n",
    "\n",
    "xg_weight_3.fit(X_train, y_train)\n",
    "xg_pred_weight_3 = xg_weight_3.predict(X_test)\n",
    "\n",
    "xg_acc_weight = xg_weight_3.score(X_test, y_test)\n",
    "xg_precision_weight= precision_score(y_test, xg_pred_weight_3)\n",
    "xg_recall_weight = recall_score(y_test, xg_pred_weight_3)\n",
    "xg_f1_weight = f1_score(y_test, xg_pred_weight_3)\n",
    "\n",
    "xg_fpr_weight, xg_tpr_weight, xg_thresholds_weight = roc_curve(y_test, xg_weight_3.predict_proba(X_test)[:,1])\n",
    "roc_auc_xg_weight = auc(xg_fpr_weight,xg_tpr_weight)\n",
    "\n",
    "print(f'XGBoost (Test) Class Weight: Accuracy: {xg_acc_weight:.6f}')\n",
    "print(f'XGBoost (Test) Class Weight: Precision: {xg_precision_weight:.6f}')\n",
    "print(f'XGBoost (Test) Class Weight: Recall : {xg_recall_weight:.6f}')\n",
    "print(f'XGBoost (Test) Class Weight: F1 : {xg_f1_weight:.6f}')\n",
    "print(f'XGBoost (Test) Class Weight: Roc : {roc_auc_xg_weight:.6f}')\n"
   ]
  },
  {
   "cell_type": "markdown",
   "id": "16840efe",
   "metadata": {},
   "source": [
    "1b. Oversampling + RandomizedSearchCV"
   ]
  },
  {
   "cell_type": "code",
   "execution_count": null,
   "id": "6f9c0e35",
   "metadata": {},
   "outputs": [],
   "source": []
  },
  {
   "cell_type": "code",
   "execution_count": null,
   "id": "483c250b",
   "metadata": {},
   "outputs": [],
   "source": []
  },
  {
   "cell_type": "code",
   "execution_count": null,
   "id": "21d68232",
   "metadata": {},
   "outputs": [],
   "source": []
  },
  {
   "cell_type": "code",
   "execution_count": null,
   "id": "0f98664c",
   "metadata": {},
   "outputs": [],
   "source": []
  },
  {
   "cell_type": "code",
   "execution_count": null,
   "id": "64f6aba0",
   "metadata": {},
   "outputs": [],
   "source": []
  },
  {
   "cell_type": "markdown",
   "id": "76e829f1",
   "metadata": {},
   "source": [
    "1c. SMOTE + RandomizedSearchCV"
   ]
  },
  {
   "cell_type": "markdown",
   "id": "f1af01cf",
   "metadata": {},
   "source": [
    "ROC Curve: Class Weights "
   ]
  },
  {
   "cell_type": "code",
   "execution_count": null,
   "id": "c9b3b1a6",
   "metadata": {},
   "outputs": [],
   "source": [
    "knn_fpr, knn_tpr, knn_thresholds = roc_curve(y_test, knn.predict_proba(X_test_s)[:,1])\n",
    "roc_auc_knn = auc(knn_fpr,knn_tpr )\n",
    "lr_fpr, lr_tpr, lr_thresholds = roc_curve(y_test, lr.predict_proba(X_test_s)[:,1])\n",
    "roc_auc_lr = auc(lr_fpr,lr_tpr )\n",
    "\n",
    "plt.plot(knn_fpr, knn_tpr, c = 'orange', lw=2, label = f'knn, auc = {roc_auc_knn}')\n",
    "plt.plot(lr_fpr, lr_tpr, c = 'red', lw=2, label = f'Logistic Regression, auc = {roc_auc_lr}')\n",
    "plt.plot([0,1],[0,1],c='violet',ls='--')\n",
    "plt.xlim([-0.05,1.05])\n",
    "plt.ylim([-0.05,1.05])\n",
    "\n",
    "\n",
    "plt.xlabel('False positive rate')\n",
    "plt.ylabel('True positive rate')\n",
    "plt.legend(loc = 'lower right')\n",
    "plt.title('ROC curves');\n"
   ]
  },
  {
   "cell_type": "code",
   "execution_count": null,
   "id": "8bbc3790",
   "metadata": {},
   "outputs": [],
   "source": [
    "ROC Curve: Oversampling"
   ]
  },
  {
   "cell_type": "code",
   "execution_count": null,
   "id": "003087c9",
   "metadata": {},
   "outputs": [],
   "source": [
    "acc = [knn_acc,lr_acc]\n",
    "precision = [knn_precision, lr_precision]\n",
    "recall = [knn_recall, lr_recall]\n",
    "f1 = [knn_f1, lr_f1]\n",
    "auc = [roc_auc_knn, roc_auc_lr]\n",
    "\n",
    "index_labels = ['knn', 'logistic regression']\n",
    "zipped = list(zip(acc, precision, recall, f1, auc))\n",
    "scores_df = pd.DataFrame(zipped, columns = ['accuracy', 'precision', 'recall', \n",
    "                                         'f1', 'auc'], index = index_labels)\n",
    "\n",
    "scores_df"
   ]
  }
 ],
 "metadata": {
  "kernelspec": {
   "display_name": "Python 3 (engineering)",
   "language": "python",
   "name": "engineering"
  },
  "language_info": {
   "codemirror_mode": {
    "name": "ipython",
    "version": 3
   },
   "file_extension": ".py",
   "mimetype": "text/x-python",
   "name": "python",
   "nbconvert_exporter": "python",
   "pygments_lexer": "ipython3",
   "version": "3.9.12"
  }
 },
 "nbformat": 4,
 "nbformat_minor": 5
}
